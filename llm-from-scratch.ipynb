{
 "cells": [
  {
   "cell_type": "markdown",
   "metadata": {},
   "source": [
    "# Building a GPT that can generate molecules from scratch"
   ]
  },
  {
   "cell_type": "markdown",
   "metadata": {},
   "source": [
    "Molecules can be represented in multitude of ways. \n",
    "One of the most widely used representations is to use text, for example in the so-called SMILES notation.\n",
    "In SMILES notation, a molecule is represented as a string of characters, where each character represents an atom or a bond.\n",
    "For example, the SMILES notation for ethanol is `CCO`. The one for benzene is `c1ccccc1`. You see that hydrogen atoms are typically omitted in SMILES notation, and that lower case letters are used for aromatic atoms. \n",
    "There is a [full grammar for SMILES notation](http://opensmiles.org/opensmiles.html) and [various alternative representations](https://www.cell.com/patterns/pdf/S2666-3899(22)00206-9.pdf), but we will stick to this simple version for this notebook."
   ]
  },
  {
   "cell_type": "markdown",
   "metadata": {
    "vscode": {
     "languageId": "plaintext"
    }
   },
   "source": [
    "Important problems that our final solution will need to be able to solve are: \n",
    "\n",
    "- dealing with inputs of different lengths (e.g, different number of atoms in different molecules)\n",
    "- incorporating information about the semantic meaning of the atoms in the molecule (to obtain meaningful molecules, the model, e.g., should probably \"know\" what kind of bonds carbon can form)\n",
    "- dealing with the interaction between atoms in the molecule (not all arrangements of atoms are equally likely)"
   ]
  },
  {
   "cell_type": "code",
   "execution_count": null,
   "metadata": {},
   "outputs": [],
   "source": [
    "import pandas as pd \n",
    "from rdkit import Chem\n",
    "from torch import nn\n",
    "import torch.nn.functional as F\n",
    "from torch.utils.data import Dataset\n",
    "import re \n",
    "from typing import List\n",
    "import numpy as np \n",
    "from math import exp\n",
    "import matplotlib.pyplot as plt\n",
    "import torch"
   ]
  },
  {
   "cell_type": "markdown",
   "metadata": {},
   "source": [
    "The functions below are helper functions that we will use throughout the notebook."
   ]
  },
  {
   "cell_type": "code",
   "execution_count": 48,
   "metadata": {},
   "outputs": [],
   "source": [
    "def get_num_parameters(model):\n",
    "    \"\"\"Return the number of trainable parameters in the model.\"\"\"\n",
    "    return sum(p.numel() for p in model.parameters() if p.requires_grad)\n",
    "\n",
    "def get_num_parameters_per_layer(model):\n",
    "    \"\"\"Return the number of trainable parameters in the model per layer.\"\"\"\n",
    "    layers = {}\n",
    "    for name, p in model.named_parameters():\n",
    "        if p.requires_grad:\n",
    "            layers[name] = p.numel()\n",
    "    return layers\n",
    "\n",
    "\n",
    "def set_device():\n",
    "    if torch.backends.mps.is_available():\n",
    "        if torch.backends.mps.is_built():\n",
    "            device = 'mps'\n",
    "    elif torch.cuda.is_available():\n",
    "        device = 'cuda'\n",
    "    else:\n",
    "        device = 'cpu'\n",
    "    return device\n",
    "\n",
    "device = set_device()"
   ]
  },
  {
   "cell_type": "markdown",
   "metadata": {
    "vscode": {
     "languageId": "plaintext"
    }
   },
   "source": [
    "## Dealing with SMILES "
   ]
  },
  {
   "cell_type": "markdown",
   "metadata": {
    "vscode": {
     "languageId": "plaintext"
    }
   },
   "source": [
    "Before we can do anything, we need to obtain data.  For doing so, we will need a dataset of SMILES strings. We will use the [ZINC dataset](https://zinc.docking.org/) which is a public database of commercially-available compounds. We will use the `250k` subset of the dataset which contains 250,000 compounds. "
   ]
  },
  {
   "cell_type": "code",
   "execution_count": 6,
   "metadata": {},
   "outputs": [
    {
     "name": "stdout",
     "output_type": "stream",
     "text": [
      "/Users/kevinmaikjablonka/.zshenv:.:1: no such file or directory: /Users/kevinmaikjablonka/.cargo/env\n",
      "--2024-05-02 12:20:55--  https://deepchemdata.s3-us-west-1.amazonaws.com/datasets/zinc15_250K_2D.tar.gz\n",
      "Resolving deepchemdata.s3-us-west-1.amazonaws.com (deepchemdata.s3-us-west-1.amazonaws.com)... 52.219.120.49, 52.219.120.145, 52.219.193.50, ...\n",
      "Connecting to deepchemdata.s3-us-west-1.amazonaws.com (deepchemdata.s3-us-west-1.amazonaws.com)|52.219.120.49|:443... connected.\n",
      "HTTP request sent, awaiting response... 200 OK\n",
      "Length: 6941580 (6.6M) [application/x-gzip]\n",
      "Saving to: ‘zinc15_250K_2D.tar.gz’\n",
      "\n",
      "zinc15_250K_2D.tar. 100%[===================>]   6.62M  1.25MB/s    in 14s     \n",
      "\n",
      "2024-05-02 12:21:11 (497 KB/s) - ‘zinc15_250K_2D.tar.gz’ saved [6941580/6941580]\n",
      "\n",
      "/Users/kevinmaikjablonka/.zshenv:.:1: no such file or directory: /Users/kevinmaikjablonka/.cargo/env\n"
     ]
    }
   ],
   "source": [
    "!wget 'https://deepchemdata.s3-us-west-1.amazonaws.com/datasets/zinc15_250K_2D.tar.gz'\n",
    "!tar -xzf zinc15_250K_2D.tar.gz"
   ]
  },
  {
   "cell_type": "markdown",
   "metadata": {},
   "source": [
    "After downloading and extracting the dataset, we can load it into memory and take a look at some molecules."
   ]
  },
  {
   "cell_type": "code",
   "execution_count": 19,
   "metadata": {},
   "outputs": [],
   "source": [
    "df = pd.read_csv('zinc15_250K_2D.csv')"
   ]
  },
  {
   "cell_type": "code",
   "execution_count": 20,
   "metadata": {},
   "outputs": [
    {
     "data": {
      "image/png": "[encoded data removed]",
      "text/plain": [
       "<rdkit.Chem.rdchem.Mol at 0x14f2af140>"
      ]
     },
     "execution_count": 20,
     "metadata": {},
     "output_type": "execute_result"
    }
   ],
   "source": [
    "Chem.MolFromSmiles(df['smiles'][0])"
   ]
  },
  {
   "cell_type": "markdown",
   "metadata": {},
   "source": [
    "Before we continue any further, we will also create train/valid and test sets."
   ]
  },
  {
   "cell_type": "code",
   "execution_count": 21,
   "metadata": {},
   "outputs": [],
   "source": [
    "train, valid, test = torch.utils.data.random_split(df['smiles'], [200000, 25000, 25000])"
   ]
  },
  {
   "cell_type": "markdown",
   "metadata": {},
   "source": [
    "### Tokenization"
   ]
  },
  {
   "cell_type": "markdown",
   "metadata": {},
   "source": [
    "For training a language model, we will need to split the SMILES into tokens. Tokens are the smallest units of text that the model will work with.\n",
    "The model will learn to predict a molecule token by token.\n",
    "There is not one correct way to do this, but one very common way is to split the SMILES into \"chemical tokens\". For this, [Philippe Schwaller wrote down a regular expression](https://pubs.rsc.org/en/content/articlelanding/2018/sc/c8sc02339e).\n",
    "\n",
    "Commonly used other tokenization methods are:\n",
    "\n",
    "- [SentencePiece](https://github.com/google/sentencepiece)\n",
    "- [Byte-Pair Encoding (BPE)](https://github.com/openai/tiktoken)\n",
    "\n",
    "::: {.callout-note}\n",
    "Some try to move completely away from tokenization and [directly](https://byte-gpt.github.io/) [model](https://www.youtube.com/watch?v=kcd0BTKJuXk) [bytes](https://arxiv.org/abs/2105.13626).\n",
    ":::"
   ]
  },
  {
   "cell_type": "code",
   "execution_count": 22,
   "metadata": {},
   "outputs": [],
   "source": [
    "def tokenize(smiles: str) -> List[str]:\n",
    "    \"\"\"\n",
    "    Tokenize a SMILES\n",
    "\n",
    "    Args:\n",
    "        smiles (str): SMILES string\n",
    "    \n",
    "    Returns:\n",
    "        List[str]: List of tokens\n",
    "    \"\"\"\n",
    "    SMI_REGEX_PATTERN = r\"\"\"(\\[[^\\]]+]|Br?|Cl?|N|O|S|P|F|I|b|c|n|o|s|p|\\(|\\)|\\.|=|#|-|\\+|\\\\|\\/|:|~|@|\\?|>>?|\\*|\\$|\\%[0-9]{2}|[0-9])\"\"\"\n",
    "    \n",
    "    return re.findall(SMI_REGEX_PATTERN, smiles)"
   ]
  },
  {
   "cell_type": "markdown",
   "metadata": {},
   "source": [
    "The molecule, CCO (ethanol), is tokenized as ['C', 'C', 'O']."
   ]
  },
  {
   "cell_type": "code",
   "execution_count": 23,
   "metadata": {},
   "outputs": [
    {
     "data": {
      "text/plain": [
       "['C', 'C', 'O']"
      ]
     },
     "execution_count": 23,
     "metadata": {},
     "output_type": "execute_result"
    }
   ],
   "source": [
    "tokenize('CCO')"
   ]
  },
  {
   "cell_type": "markdown",
   "metadata": {},
   "source": [
    "#### Converting tokens into IDs"
   ]
  },
  {
   "cell_type": "markdown",
   "metadata": {},
   "source": [
    "For inputing tokens into a model, we will need to convert them into numbers.\n",
    "\n",
    "To do so, we will set up a \"vocabulary\" which is a dictionary that maps tokens to integers.\n",
    "The vocabulary also defines the tokens that are known to the model. "
   ]
  },
  {
   "cell_type": "markdown",
   "metadata": {},
   "source": [
    "#### Special tokens\n",
    "\n",
    "Our model will be fed sequences of fixed length. Our SMILES, however, are of variable length. \n",
    "We will have to pad them to a fixed length. We will use a padding token for this purpose. \n",
    "That is, we will add a specific \"[PAD]\" token to the vocabulary which only serves the purpose of padding.\n",
    "\n",
    "Often, we also add other tokens such as `[EOS]` (end of sequence) or `[BOS]` (beginning of sequence).\n",
    "\n",
    "They are typically used as follows:\n",
    "\n",
    "- `[BOS]` is added at the beginning of each sequence\n",
    "- `[EOS]` is added at the end of each sequence\n",
    "- `[PAD]` is added to the end of each sequence to pad it to a fixed length\n",
    "- `[UNK]` is used to replace tokens that are not in the vocabulary\n"
   ]
  },
  {
   "cell_type": "markdown",
   "metadata": {},
   "source": [
    "We can put all of this together in a `Tokenizer` class."
   ]
  },
  {
   "cell_type": "code",
   "execution_count": 38,
   "metadata": {},
   "outputs": [],
   "source": [
    "class Tokenizer:\n",
    "    def __init__(self, tokens: List[str], eos: str = '[EOS]', bos: str = '[BOS]', pad: str = '[PAD]', unk: str = '[UNK]'):\n",
    "        self.tokens = [pad, bos, eos, unk] + tokens\n",
    "        self._token_to_index = {token: index for index, token in enumerate(self.tokens)}\n",
    "        self.index_to_token = {index: token for index, token in enumerate(self.tokens)}\n",
    "\n",
    "    def token_to_index(self, token: str) -> int:\n",
    "        try:\n",
    "            return self._token_to_index[token]\n",
    "        except KeyError:\n",
    "            return self._token_to_index['[UNK]']\n",
    "        \n",
    "    def __len__(self):\n",
    "        return len(self.tokens)\n",
    "    \n",
    "    def __getitem__(self, item):\n",
    "        return self.token_to_index[item]\n",
    "    \n",
    "    def __contains__(self, item):\n",
    "        return item in self.tokens\n",
    "\n",
    "    def encode(self, smiles: str, add_sos: bool=False, add_eos: bool=False) -> List[int]:\n",
    "        \"\"\"\n",
    "        Encode a SMILES into a list of indices\n",
    "\n",
    "        Args:\n",
    "            smiles (str): SMILES string\n",
    "            add_sos (bool): Add start of sentence token\n",
    "            add_eos (bool): Add end of sentence token\n",
    "\n",
    "        Returns:\n",
    "            List[int]: List of indices\n",
    "        \"\"\"\n",
    "        tokens = []\n",
    "        if add_sos:\n",
    "            tokens.append(self.token_to_index('[BOS]'))\n",
    "        tokens += [self.token_to_index(token) for token in tokenize(smiles)]\n",
    "        if add_eos:\n",
    "            tokens.append(self.token_to_index('[EOS]'))\n",
    "        return tokens\n",
    "    \n",
    "    def decode(self, indices: List[int], strip_special_tokens: bool = True) -> str: \n",
    "        \"\"\"\n",
    "        Decode a list of indices into a SMILES\n",
    "\n",
    "        Args:\n",
    "            indices (List[int]): List of indices\n",
    "        \n",
    "        Returns:\n",
    "            str: SMILES string\n",
    "        \"\"\"\n",
    "        decoded = ''.join([self.index_to_token[index] for index in indices])\n",
    "        if strip_special_tokens:\n",
    "            return decoded.replace('[PAD]', '').replace('[BOS]', '').replace('[EOS]', '')\n",
    "        return decoded"
   ]
  },
  {
   "cell_type": "markdown",
   "metadata": {},
   "source": [
    "To instantiate the tokenizer, we need to pass the list of tokens that we want to use. (This is sometimes called \"training\" the tokenizer, but in this case, we are just defining the tokens that we want to use.)\n",
    "We will use the following tokens:"
   ]
  },
  {
   "cell_type": "code",
   "execution_count": 119,
   "metadata": {},
   "outputs": [],
   "source": [
    "tokens = set()\n",
    "lengths = []\n",
    "for smiles in train.dataset.values:\n",
    "    tokens_ = tokenize(smiles)\n",
    "    tokens.update(tokens_)\n",
    "    lengths.append(len(tokens_))\n"
   ]
  },
  {
   "cell_type": "code",
   "execution_count": 122,
   "metadata": {},
   "outputs": [
    {
     "data": {
      "text/plain": [
       "(array([3.0000e+00, 4.0000e+00, 7.0000e+00, 0.0000e+00, 2.3000e+01,\n",
       "        5.6000e+01, 0.0000e+00, 7.8000e+01, 2.0100e+02, 0.0000e+00,\n",
       "        3.8900e+02, 8.0200e+02, 1.4320e+03, 0.0000e+00, 2.5760e+03,\n",
       "        3.9450e+03, 0.0000e+00, 5.8570e+03, 8.0820e+03, 0.0000e+00,\n",
       "        1.0313e+04, 1.2675e+04, 1.4914e+04, 0.0000e+00, 1.7137e+04,\n",
       "        1.8718e+04, 0.0000e+00, 2.0510e+04, 2.0796e+04, 0.0000e+00,\n",
       "        2.1073e+04, 2.0330e+04, 1.8396e+04, 0.0000e+00, 1.6193e+04,\n",
       "        1.2172e+04, 0.0000e+00, 9.8210e+03, 5.8470e+03, 0.0000e+00,\n",
       "        3.9460e+03, 2.1220e+03, 9.6800e+02, 0.0000e+00, 4.1200e+02,\n",
       "        1.4500e+02, 0.0000e+00, 4.6000e+01, 1.0000e+01, 1.0000e+00]),\n",
       " array([17. , 17.7, 18.4, 19.1, 19.8, 20.5, 21.2, 21.9, 22.6, 23.3, 24. ,\n",
       "        24.7, 25.4, 26.1, 26.8, 27.5, 28.2, 28.9, 29.6, 30.3, 31. , 31.7,\n",
       "        32.4, 33.1, 33.8, 34.5, 35.2, 35.9, 36.6, 37.3, 38. , 38.7, 39.4,\n",
       "        40.1, 40.8, 41.5, 42.2, 42.9, 43.6, 44.3, 45. , 45.7, 46.4, 47.1,\n",
       "        47.8, 48.5, 49.2, 49.9, 50.6, 51.3, 52. ]),\n",
       " <BarContainer object of 50 artists>)"
      ]
     },
     "execution_count": 122,
     "metadata": {},
     "output_type": "execute_result"
    },
    {
     "data": {
      "image/png": "[encoded data removed]",
      "text/plain": [
       "<Figure size 640x480 with 1 Axes>"
      ]
     },
     "metadata": {},
     "output_type": "display_data"
    }
   ],
   "source": [
    "plt.hist(lengths, bins=50)"
   ]
  },
  {
   "cell_type": "code",
   "execution_count": 39,
   "metadata": {},
   "outputs": [],
   "source": [
    "tokenizer = Tokenizer(list(tokens))"
   ]
  },
  {
   "cell_type": "code",
   "execution_count": 40,
   "metadata": {},
   "outputs": [
    {
     "data": {
      "text/plain": [
       "[45, 45, 38]"
      ]
     },
     "execution_count": 40,
     "metadata": {},
     "output_type": "execute_result"
    }
   ],
   "source": [
    "tokenizer.encode('CCO')"
   ]
  },
  {
   "cell_type": "markdown",
   "metadata": {},
   "source": [
    "### Embeddings"
   ]
  },
  {
   "cell_type": "markdown",
   "metadata": {},
   "source": [
    "Currently, we only encode the SMILES strings into a list of indices. \n",
    "There is no inherent meaning to the indices themselves, and we can improve modeling by representing each index as a vector. \n",
    "We call those vectors embeddings, but they are nothing more than a vector representation--like a feature vector--for each index.\n",
    "\n",
    "Ideally, those vectors ensure that similar indices are close to each other in the embedding space.\n",
    "There are many ways to create those embeddings. But for now it is only important to know this concept."
   ]
  },
  {
   "cell_type": "markdown",
   "metadata": {},
   "source": [
    "### Positional encoding"
   ]
  },
  {
   "cell_type": "markdown",
   "metadata": {},
   "source": [
    "The embeddings we just created contain only information about their identity. \n",
    "However, they contain no information about their position in the sequence.\n",
    "\n",
    "To add positional information, we can add a positional encoding to the embeddings. Again, there are many ways to do this.\n",
    "\n",
    "A very simple way is called _absolute positional encoding_. For this we simply add the position index to the embedding vector.\n",
    "\n",
    "For example \n",
    "\n",
    "```python\n",
    "B, T, C = 2, 3, 4 # batch size, sequence length, embedding size\n",
    "x = torch.rand(B, T, C)\n",
    "pos = torch.arange(T).unsqueeze(0).repeat(B, 1)\n",
    "```"
   ]
  },
  {
   "cell_type": "markdown",
   "metadata": {},
   "source": [
    "### Language modeling dataset\n",
    "\n",
    "A dataset class is a class that inherits from `torch.utils.data.Dataset`. It is used to load data into a model.\n",
    "\n",
    "The most important methods of a dataset class are:\n",
    "\n",
    "- `__len__`: This method returns the length of the dataset. It is used by the `DataLoader` to determine how many batches to load.\n",
    "- `__getitem__`: This method returns a single sample from the dataset. It is used by the `DataLoader` to load a batch of samples."
   ]
  },
  {
   "cell_type": "code",
   "execution_count": 266,
   "metadata": {},
   "outputs": [],
   "source": [
    "class CausalLanguageModelingDataset(Dataset):\n",
    "    def __init__(self, texts, tokenizer, max_length):\n",
    "        self.tokenizer = tokenizer\n",
    "        self.texts = texts\n",
    "        self.max_length = max_length\n",
    "        self.inputs = []\n",
    "        self.targets = []\n",
    "\n",
    "        for text in texts:\n",
    "            input_ids = np.array(tokenizer.encode(text))\n",
    "            if len(input_ids) > self.max_length:\n",
    "                continue\n",
    "            input_ids = self._pad_right(input_ids, self.max_length)\n",
    "            # make next token the target create datasets with sliding windows\n",
    "            for i in range(1, len(input_ids)):\n",
    "                self.inputs.append(self._pad_left(input_ids[:i], self.max_length))\n",
    "                self.targets.append([input_ids[i]])\n",
    "\n",
    "    def __len__(self):\n",
    "        return len(self.inputs)\n",
    "\n",
    "    def __getitem__(self, idx):\n",
    "        input_ids = self.inputs[idx]\n",
    "        target_ids = self.targets[idx]\n",
    "\n",
    "        return  torch.tensor(input_ids, dtype=torch.long), torch.tensor(target_ids, dtype=torch.long)\n",
    "    \n",
    "    def _pad_left(self, sequence, max_len):\n",
    "        pad_value = self.tokenizer.token_to_index('[PAD]')\n",
    "        padded_sequence = np.full(max_len, pad_value)\n",
    "        padded_sequence[-len(sequence):] = sequence\n",
    "        return padded_sequence\n",
    "\n",
    "    def _pad_right(self, sequence, max_len):\n",
    "        pad_value = self.tokenizer.token_to_index('[PAD]')\n",
    "        padded_sequence = np.full(max_len, pad_value)\n",
    "        padded_sequence[:len(sequence)] = sequence\n",
    "        return padded_sequence\n"
   ]
  },
  {
   "cell_type": "markdown",
   "metadata": {},
   "source": [
    "You hopefully note something very interesting in this dataset: Based on one SMILES, we can create multiple training examples, because we can slide a window over the SMILES and predict the next token.  \n",
    "\n",
    "\n",
    "**Note that our implementation is relatively naiive and is optimized to make this point clear. In practice, you should use dedicated methods, e.g., from the `transformers` library, to create language model datasets. I.e. instead of predicting only one token, we will directly predict the next tokens for all tokens in the input**"
   ]
  },
  {
   "cell_type": "markdown",
   "metadata": {},
   "source": [
    "## A simple bigram model"
   ]
  },
  {
   "cell_type": "markdown",
   "metadata": {},
   "source": [
    "The simplest language model is a bigram model. In a bigram model, we predict the next token based on the previous token.\n",
    "A bigram model is the simplest form of `n-gram` model. In an `n-gram` model, we predict the next token based on the previous `n` tokens.\n",
    "\n",
    "$N$-gram models are a simple but effective way to model language. The idea is to predict the next word in a sentence given the previous $n-1$ words. For example, in a 2-gram (bigram) model, we would predict the next word given only the previous word. In a 3-gram model, we would predict the next word given the previous two words. In general, we would predict the next word given the previous $n-1$ words.\n",
    "\n",
    "Formally, we can write down the bigram model as follows:\n",
    "\n",
    "$$\n",
    "p(w_i|w_{i-1}) = \\frac{C(w_{i-1}, w_i)}{C(w_{i-1})}\n",
    "$$\n",
    "\n",
    "where $w_i$ is the $i$-th word in the sentence, $C(w_{i-1}, w_i)$ is the number of times the bigram $w_{i-1}, w_i$ occurs in the training set, and $C(w_{i-1})$ is the number of times the word $w_{i-1}$ occurs in the training set."
   ]
  },
  {
   "cell_type": "markdown",
   "metadata": {},
   "source": [
    "Since the bigram model only considers the previous word/token, we only need a lookup table. \n",
    "\n",
    "Such lookup tables are implemented in PyTorch as `nn.Embedding`. Keep in mind that an embedding layer is nothing fancy. It works like inputting a one-hot encoded vector in a linear layer:\n",
    "\n",
    "\n",
    "::: {.callout-note title=\"What are embedding layers?\"}\n",
    "Sebastian Raschka made a great figure about that.\n",
    "\n",
    "<blockquote class=\"twitter-tweet\" data-media-max-width=\"560\"><p lang=\"en\" dir=\"ltr\">Embedding layers are often perceived as a fancy operation that we apply to encode the inputs (each word tokens) for large language models.<br>But embedding layers = fully-connected layers on one-hot encoded inputs. They just replace expensive matrix multiplications w index look-ups. <a href=\"https://t.co/0I3AFk4por\">pic.twitter.com/0I3AFk4por</a></p>&mdash; Sebastian Raschka (@rasbt) <a href=\"https://twitter.com/rasbt/status/1611401567030083587?ref_src=twsrc%5Etfw\">January 6, 2023</a></blockquote> <script async src=\"https://platform.twitter.com/widgets.js\" charset=\"utf-8\"></script>\n",
    "\n",
    "You can try it yourself using the following code (taken from Sebastian's tweet):\n",
    "\n",
    "You can first use an embedding layer to encode the indices and then use a linear layer to do the same. You will see that the results are the same.\n",
    "\n",
    "Here for example, we encode the indices `[2, 3, 1]` into a 5-dimensional vector using an embedding layer and a linear layer.\n",
    "```python\n",
    "torch.manual_seed(123);\n",
    "idx = torch.tensor([2, 3, 1]) # 3 training examples\n",
    "num_idx = max(idx)+1\n",
    "out_dim = 5\n",
    "embedding = torch.nn.Embedding(num_idx, out_dim)\n",
    "embedding(idx)\n",
    "```\n",
    "\n",
    "The code for the linear layer is:\n",
    "```python\n",
    "\n",
    "torch.manual_seed(123);\n",
    "idx = torch.tensor([2, 3, 1]) # 3 training examples\n",
    "one_hot = torch.nn.functional.one_hot(idx, num_classes=num_idx)\n",
    "linear = torch.nn.Linear(num_idx, out_dim, bias=False)\n",
    "linear.weight = torch.nn.Parameter(embedding.weight.T.detach()) # nn.Linear does xW^T, so we need to transpose the weight matrix\n",
    "linear(one_hot.float())\n",
    "```\n",
    "\n",
    ":::"
   ]
  },
  {
   "cell_type": "markdown",
   "metadata": {},
   "source": [
    "Using the `Embedding` layer, we can create a simple Bigram model. "
   ]
  },
  {
   "cell_type": "code",
   "execution_count": 267,
   "metadata": {},
   "outputs": [],
   "source": [
    "class BigramModel(nn.Module):\n",
    "    def __init__(self, vocab_size: int = 40):\n",
    "        super().__init__()\n",
    "        # \"learnable dictionary\" that maps one token to another token\n",
    "        self.mapping_layer = nn.Embedding(vocab_size, vocab_size)\n",
    "\n",
    "    def forward(self, x: torch.Tensor) -> torch.Tensor:\n",
    "        # the forward pass only consists of a lookup in the mapping layer\n",
    "        return self.mapping_layer(x)\n",
    "    \n",
    "    def loss(self, x, y): \n",
    "        # x has shape (batch_size, sequence_length)\n",
    "        predictions = self.forward(x)\n",
    "        B, T, C = predictions.shape\n",
    "        \n",
    "        # predictions has shape (batch_size, sequence_length, vocab_size)\n",
    "        predictions = predictions.view(B*T, C)\n",
    "        \n",
    "        # y has the shape (batch_size, sequence_length)\n",
    "        y = y.view(B*T)\n",
    "\n",
    "        # we use cross entropy loss to train the model\n",
    "        return F.cross_entropy(predictions, y)\n"
   ]
  },
  {
   "cell_type": "code",
   "execution_count": 268,
   "metadata": {},
   "outputs": [],
   "source": [
    "bigram = BigramModel(10)"
   ]
  },
  {
   "cell_type": "markdown",
   "metadata": {},
   "source": [
    "Given a token ID, the model predict how likely each token of the vocabulary is to be the next. Right now, the model is not trained, so it will predict the next token randomly."
   ]
  },
  {
   "cell_type": "code",
   "execution_count": 269,
   "metadata": {},
   "outputs": [
    {
     "name": "stderr",
     "output_type": "stream",
     "text": [
      "/var/folders/m9/_txh68y946s4pxy1x2wnd3lh0000gn/T/ipykernel_51170/730608109.py:1: UserWarning: Implicit dimension choice for softmax has been deprecated. Change the call to include dim=X as an argument.\n",
      "  F.softmax(bigram(torch.tensor([1])))\n"
     ]
    },
    {
     "data": {
      "text/plain": [
       "tensor([[0.0465, 0.0137, 0.0966, 0.0857, 0.3933, 0.0212, 0.0415, 0.0283, 0.0550,\n",
       "         0.2181]], grad_fn=<SoftmaxBackward0>)"
      ]
     },
     "execution_count": 269,
     "metadata": {},
     "output_type": "execute_result"
    }
   ],
   "source": [
    "F.softmax(bigram(torch.tensor([1])))"
   ]
  },
  {
   "cell_type": "markdown",
   "metadata": {},
   "source": [
    "For generating a sequence, we can implement a `generate` method that iteratively predicts the next token and appends it to the sequence. We can then use this method to generate a sequence of a given length."
   ]
  },
  {
   "cell_type": "code",
   "execution_count": 288,
   "metadata": {},
   "outputs": [],
   "source": [
    "class BigramModel(nn.Module):\n",
    "    def __init__(self, vocab_size):\n",
    "        super().__init__()\n",
    "        # read of the logits of the next token from table\n",
    "        self.mapping_table = nn.Embedding(vocab_size, vocab_size)\n",
    "\n",
    "    def forward(self, x):\n",
    "        # x is a tensor of shape (B, T)\n",
    "        return self.mapping_table(x) # returns tensor of shape (batch_size, time_steps, vocab_size)\n",
    "    \n",
    "    def loss(self, x, y):\n",
    "        # x is a tensor of shape (B, T)\n",
    "        logits = self.forward(x) # (B, T, C)\n",
    "        B, T, C = logits.shape\n",
    "\n",
    "        # Note that that the implementation below is because of how we - for educational purposes - have defined the dataset\n",
    "        # A better way is to have inputs and outputs of the same length (and to not manually code the sliding window\n",
    "        # but to instead use a causal mask)\n",
    "\n",
    "        # in our case, y only contains the next token\n",
    "        # so we only care about the last token in Bigram\n",
    "        logits = logits[:, -1, :]\n",
    "        logits = logits.view(B, C)\n",
    "        y = y.view(B)\n",
    "        \n",
    "        return F.cross_entropy(logits, y)\n",
    "    \n",
    "    def generate(self, x, max_new_tokens=100):\n",
    "        # x is a tensor of shape (B, T)\n",
    "        # we generate max_new_tokens new tokens\n",
    "        new_tokens = []\n",
    "        for _t in range(max_new_tokens):\n",
    "            logits = self.forward(x) # (B, T, C)\n",
    "\n",
    "            logits = logits[:, -1, :] # we only care about the last token in Bigram, hence we bow have shape (B, C)\n",
    "            probs = F.softmax(logits, dim=-1) # we generate probabilities for the next token\n",
    "\n",
    "            # torch.multinomial(probs, num_samples=1) returns a tensor of shape (B, 1) \n",
    "            # where each element is the index of the sampled token\n",
    "            next_token = torch.multinomial(probs, num_samples=1)\n",
    "            new_tokens.append(next_token)\n",
    "            x = torch.cat([x, next_token], dim=1)\n",
    "        return x\n",
    "        \n",
    "    "
   ]
  },
  {
   "cell_type": "markdown",
   "metadata": {},
   "source": [
    "To evaluate the model performance, we will use the helper function below.\n",
    "\n",
    "As performance metric we will use perplexity. Perplexity is a metric that measures how well a probability model predicts a sample. It is defined as $2^H$, where $H$ is the cross entropy loss. The lower the perplexity, the better the model.\n",
    "\n",
    "\n",
    "To better understand it, let's recall a few things: \n",
    "\n",
    "LLMs are trained to predict the probability of a word given the previous words. For instance, in the sentence \"She went to the...\", the model predicts the probability of what the next word could be (e.g., store, park, etc.).\n",
    "\n",
    "_Cross entropy_ is a measure of the difference between two probability distributions - in this case, the distribution predicted by the model and the actual distribution of words in the language. A lower cross-entropy means the model's predictions are closer to the actual distribution. We can calculate it as follows:\n",
    "\n",
    "$$H(p,q) = - \\sum_{x} p(x) \\log q(x)$$\n",
    "\n",
    "where $p$ is the actual distribution and $q$ is the predicted distribution. \n",
    "\n",
    "_Perplexity_ can be thought of as the \"effective number of choices\" the model feels it has when making a prediction. A lower perplexity indicates that the model is more confident (or less \"perplexed\") about its predictions.\n",
    "\n",
    "For example, if a model has a perplexity of 10 on a dataset, it means that, on average, each time it tries to predict the next word, it's as uncertain as if it were choosing uniformly and randomly among 10 options. If the perplexity is 100, it's as uncertain as if it were choosing among 100 options, and so on.\n",
    "\n",
    "You can find further information about such metrics [here](https://thegradient.pub/understanding-evaluation-metrics-for-language-models/)."
   ]
  },
  {
   "cell_type": "code",
   "execution_count": 289,
   "metadata": {},
   "outputs": [],
   "source": [
    "@torch.no_grad()\n",
    "def estimate_perplexity(model, data_loader):\n",
    "    # set the model to evaluation mode, i.e., \n",
    "    model.eval()\n",
    "    total_loss = 0\n",
    "    total_count = 0\n",
    "    for x, y in data_loader:\n",
    "        x = x.to(device)\n",
    "        y = y.to(device)\n",
    "        loss = model.loss(x, y)\n",
    "        total_loss += loss.item()\n",
    "        total_count += 1\n",
    "    return exp(total_loss / total_count)"
   ]
  },
  {
   "cell_type": "markdown",
   "metadata": {},
   "source": [
    "### Training the model\n",
    "\n",
    "To train the model, we will use a simple training loop and the Adam optimizer.\n",
    "\n",
    "The role of the `Adam` optimizer is to update the parameters of the model using a technique called [mini-batch stochastic gradient descent](http://d2l.ai/chapter_optimization/minibatch-sgd.html).\n",
    "The idea is that we update the weights in the direction of the gradient of the loss function, which we estimate on a small batch of data. The learning rate controls how big the steps are that we take in the direction of the gradient.\n",
    "\n",
    "Setting learning rate is not trivial, you can find more background [here](https://www.jeremyjordan.me/nn-learning-rate/).\n",
    "\n",
    "It is import to remember to use the `zero_grad` function to clear the gradients before computing the gradients for the current batch. Also, remember to call `loss.backward()` to compute the gradients for the current batch.\n",
    "\n",
    "For now, we will use a very simple approach (to reuse our old dataloader) and just predict the second token given the first one."
   ]
  },
  {
   "cell_type": "code",
   "execution_count": 290,
   "metadata": {},
   "outputs": [],
   "source": [
    "model = BigramModel(len(tokenizer))"
   ]
  },
  {
   "cell_type": "code",
   "execution_count": 291,
   "metadata": {},
   "outputs": [],
   "source": [
    "train_loader = torch.utils.data.DataLoader(CausalLanguageModelingDataset(train, tokenizer, max_length=40), batch_size=2048, shuffle=True)\n",
    "valid_loader = torch.utils.data.DataLoader(CausalLanguageModelingDataset(valid, tokenizer, max_length=40), batch_size=2048)\n",
    "test_loader = torch.utils.data.DataLoader(CausalLanguageModelingDataset(test, tokenizer, max_length=40), batch_size=2048)"
   ]
  },
  {
   "cell_type": "code",
   "execution_count": 292,
   "metadata": {},
   "outputs": [],
   "source": [
    "def train_model(model, train_loader, val_loader, epochs, lr, eval_every=100):\n",
    "    # set up the optimizer\n",
    "    optimizer = torch.optim.Adam(model.parameters(), lr=lr)\n",
    "    model.to(device)\n",
    "    # start training\n",
    "    # set the model to train mode \n",
    "    model.train()\n",
    "    for epoch in range(epochs):\n",
    "\n",
    "\n",
    "        # iterate over the training data\n",
    "        for i, (x,y) in enumerate(train_loader):\n",
    "            # move the data to the device\n",
    "            x = x.to(device)\n",
    "            y = y.to(device)\n",
    "            loss = model.loss(x,y)\n",
    "            # clear the gradients\n",
    "            optimizer.zero_grad()\n",
    "            # compute the gradients\n",
    "            loss.backward()\n",
    "            # update the parameters\n",
    "            optimizer.step()\n",
    "\n",
    "            # print the loss every eval_every iterations\n",
    "            if i % eval_every == 0:\n",
    "                print(f\"Epoch {epoch}, iter {i}, train loss {loss.item():.3f}, val perplexity {estimate_perplexity(model, val_loader):.5f}\")"
   ]
  },
  {
   "cell_type": "code",
   "execution_count": 293,
   "metadata": {},
   "outputs": [
    {
     "name": "stdout",
     "output_type": "stream",
     "text": [
      "Epoch 0, iter 0, train loss 4.247, val perplexity 68.89613\n",
      "Epoch 0, iter 100, train loss 4.084, val perplexity 58.78415\n",
      "Epoch 0, iter 200, train loss 3.887, val perplexity 50.44378\n",
      "Epoch 0, iter 300, train loss 3.770, val perplexity 43.52746\n",
      "Epoch 0, iter 400, train loss 3.647, val perplexity 37.78621\n",
      "Epoch 0, iter 500, train loss 3.483, val perplexity 32.99921\n",
      "Epoch 0, iter 600, train loss 3.302, val perplexity 28.98877\n",
      "Epoch 0, iter 700, train loss 3.246, val perplexity 25.62722\n",
      "Epoch 0, iter 800, train loss 3.124, val perplexity 22.79053\n",
      "Epoch 0, iter 900, train loss 3.014, val perplexity 20.38747\n",
      "Epoch 0, iter 1000, train loss 2.925, val perplexity 18.34650\n",
      "Epoch 0, iter 1100, train loss 2.821, val perplexity 16.60504\n",
      "Epoch 0, iter 1200, train loss 2.695, val perplexity 15.11995\n",
      "Epoch 0, iter 1300, train loss 2.618, val perplexity 13.84288\n",
      "Epoch 0, iter 1400, train loss 2.565, val perplexity 12.74738\n",
      "Epoch 0, iter 1500, train loss 2.524, val perplexity 11.80145\n",
      "Epoch 0, iter 1600, train loss 2.432, val perplexity 10.98570\n",
      "Epoch 0, iter 1700, train loss 2.295, val perplexity 10.27731\n",
      "Epoch 0, iter 1800, train loss 2.271, val perplexity 9.66229\n",
      "Epoch 0, iter 1900, train loss 2.235, val perplexity 9.12911\n",
      "Epoch 0, iter 2000, train loss 2.189, val perplexity 8.66075\n",
      "Epoch 0, iter 2100, train loss 2.085, val perplexity 8.24934\n",
      "Epoch 0, iter 2200, train loss 2.058, val perplexity 7.88684\n",
      "Epoch 0, iter 2300, train loss 2.025, val perplexity 7.56794\n",
      "Epoch 0, iter 2400, train loss 2.033, val perplexity 7.28616\n",
      "Epoch 0, iter 2500, train loss 1.934, val perplexity 7.03687\n",
      "Epoch 0, iter 2600, train loss 1.882, val perplexity 6.81432\n",
      "Epoch 0, iter 2700, train loss 1.890, val perplexity 6.61714\n",
      "Epoch 0, iter 2800, train loss 1.857, val perplexity 6.44163\n",
      "Epoch 0, iter 2900, train loss 1.860, val perplexity 6.28394\n",
      "Epoch 0, iter 3000, train loss 1.831, val perplexity 6.14318\n",
      "Epoch 1, iter 0, train loss 1.806, val perplexity 6.11426\n",
      "Epoch 1, iter 100, train loss 1.799, val perplexity 5.99120\n",
      "Epoch 1, iter 200, train loss 1.772, val perplexity 5.88139\n",
      "Epoch 1, iter 300, train loss 1.758, val perplexity 5.78283\n",
      "Epoch 1, iter 400, train loss 1.718, val perplexity 5.69448\n",
      "Epoch 1, iter 500, train loss 1.756, val perplexity 5.61472\n",
      "Epoch 1, iter 600, train loss 1.741, val perplexity 5.54318\n",
      "Epoch 1, iter 700, train loss 1.676, val perplexity 5.47892\n",
      "Epoch 1, iter 800, train loss 1.695, val perplexity 5.42134\n",
      "Epoch 1, iter 900, train loss 1.671, val perplexity 5.37019\n",
      "Epoch 1, iter 1000, train loss 1.693, val perplexity 5.32408\n",
      "Epoch 1, iter 1100, train loss 1.683, val perplexity 5.28262\n",
      "Epoch 1, iter 1200, train loss 1.651, val perplexity 5.24482\n",
      "Epoch 1, iter 1300, train loss 1.681, val perplexity 5.21134\n",
      "Epoch 1, iter 1400, train loss 1.600, val perplexity 5.18109\n",
      "Epoch 1, iter 1500, train loss 1.627, val perplexity 5.15382\n",
      "Epoch 1, iter 1600, train loss 1.621, val perplexity 5.12923\n",
      "Epoch 1, iter 1700, train loss 1.597, val perplexity 5.10679\n",
      "Epoch 1, iter 1800, train loss 1.592, val perplexity 5.08645\n",
      "Epoch 1, iter 1900, train loss 1.603, val perplexity 5.06797\n",
      "Epoch 1, iter 2000, train loss 1.622, val perplexity 5.05094\n",
      "Epoch 1, iter 2100, train loss 1.600, val perplexity 5.03557\n",
      "Epoch 1, iter 2200, train loss 1.618, val perplexity 5.02141\n",
      "Epoch 1, iter 2300, train loss 1.611, val perplexity 5.00810\n",
      "Epoch 1, iter 2400, train loss 1.586, val perplexity 4.99597\n",
      "Epoch 1, iter 2500, train loss 1.587, val perplexity 4.98479\n",
      "Epoch 1, iter 2600, train loss 1.626, val perplexity 4.97436\n",
      "Epoch 1, iter 2700, train loss 1.594, val perplexity 4.96466\n",
      "Epoch 1, iter 2800, train loss 1.626, val perplexity 4.95561\n",
      "Epoch 1, iter 2900, train loss 1.627, val perplexity 4.94720\n",
      "Epoch 1, iter 3000, train loss 1.615, val perplexity 4.93930\n",
      "Epoch 2, iter 0, train loss 1.595, val perplexity 4.93764\n",
      "Epoch 2, iter 100, train loss 1.605, val perplexity 4.93042\n",
      "Epoch 2, iter 200, train loss 1.562, val perplexity 4.92365\n",
      "Epoch 2, iter 300, train loss 1.597, val perplexity 4.91732\n",
      "Epoch 2, iter 400, train loss 1.589, val perplexity 4.91128\n",
      "Epoch 2, iter 500, train loss 1.604, val perplexity 4.90558\n",
      "Epoch 2, iter 600, train loss 1.591, val perplexity 4.90023\n",
      "Epoch 2, iter 700, train loss 1.555, val perplexity 4.89515\n",
      "Epoch 2, iter 800, train loss 1.597, val perplexity 4.89030\n",
      "Epoch 2, iter 900, train loss 1.568, val perplexity 4.88572\n",
      "Epoch 2, iter 1000, train loss 1.568, val perplexity 4.88150\n",
      "Epoch 2, iter 1100, train loss 1.596, val perplexity 4.87742\n",
      "Epoch 2, iter 1200, train loss 1.540, val perplexity 4.87349\n",
      "Epoch 2, iter 1300, train loss 1.585, val perplexity 4.86991\n",
      "Epoch 2, iter 1400, train loss 1.620, val perplexity 4.86635\n",
      "Epoch 2, iter 1500, train loss 1.595, val perplexity 4.86316\n",
      "Epoch 2, iter 1600, train loss 1.609, val perplexity 4.86005\n",
      "Epoch 2, iter 1700, train loss 1.590, val perplexity 4.85700\n",
      "Epoch 2, iter 1800, train loss 1.584, val perplexity 4.85425\n",
      "Epoch 2, iter 1900, train loss 1.588, val perplexity 4.85149\n",
      "Epoch 2, iter 2000, train loss 1.593, val perplexity 4.84899\n",
      "Epoch 2, iter 2100, train loss 1.611, val perplexity 4.84653\n",
      "Epoch 2, iter 2200, train loss 1.570, val perplexity 4.84416\n",
      "Epoch 2, iter 2300, train loss 1.630, val perplexity 4.84193\n",
      "Epoch 2, iter 2400, train loss 1.548, val perplexity 4.83973\n",
      "Epoch 2, iter 2500, train loss 1.544, val perplexity 4.83775\n",
      "Epoch 2, iter 2600, train loss 1.594, val perplexity 4.83583\n",
      "Epoch 2, iter 2700, train loss 1.606, val perplexity 4.83394\n",
      "Epoch 2, iter 2800, train loss 1.567, val perplexity 4.83223\n",
      "Epoch 2, iter 2900, train loss 1.606, val perplexity 4.83054\n",
      "Epoch 2, iter 3000, train loss 1.544, val perplexity 4.82894\n",
      "Epoch 3, iter 0, train loss 1.610, val perplexity 4.82853\n",
      "Epoch 3, iter 100, train loss 1.624, val perplexity 4.82708\n",
      "Epoch 3, iter 200, train loss 1.573, val perplexity 4.82555\n",
      "Epoch 3, iter 300, train loss 1.583, val perplexity 4.82419\n",
      "Epoch 3, iter 400, train loss 1.561, val perplexity 4.82284\n",
      "Epoch 3, iter 500, train loss 1.545, val perplexity 4.82160\n",
      "Epoch 3, iter 600, train loss 1.577, val perplexity 4.82032\n",
      "Epoch 3, iter 700, train loss 1.536, val perplexity 4.81921\n",
      "Epoch 3, iter 800, train loss 1.574, val perplexity 4.81807\n",
      "Epoch 3, iter 900, train loss 1.568, val perplexity 4.81694\n",
      "Epoch 3, iter 1000, train loss 1.594, val perplexity 4.81590\n",
      "Epoch 3, iter 1100, train loss 1.532, val perplexity 4.81492\n",
      "Epoch 3, iter 1200, train loss 1.520, val perplexity 4.81411\n",
      "Epoch 3, iter 1300, train loss 1.597, val perplexity 4.81317\n",
      "Epoch 3, iter 1400, train loss 1.563, val perplexity 4.81233\n",
      "Epoch 3, iter 1500, train loss 1.625, val perplexity 4.81148\n",
      "Epoch 3, iter 1600, train loss 1.571, val perplexity 4.81063\n",
      "Epoch 3, iter 1700, train loss 1.590, val perplexity 4.80991\n",
      "Epoch 3, iter 1800, train loss 1.570, val perplexity 4.80916\n",
      "Epoch 3, iter 1900, train loss 1.585, val perplexity 4.80845\n",
      "Epoch 3, iter 2000, train loss 1.617, val perplexity 4.80771\n",
      "Epoch 3, iter 2100, train loss 1.578, val perplexity 4.80707\n",
      "Epoch 3, iter 2200, train loss 1.589, val perplexity 4.80649\n",
      "Epoch 3, iter 2300, train loss 1.561, val perplexity 4.80590\n",
      "Epoch 3, iter 2400, train loss 1.553, val perplexity 4.80530\n",
      "Epoch 3, iter 2500, train loss 1.560, val perplexity 4.80477\n",
      "Epoch 3, iter 2600, train loss 1.571, val perplexity 4.80423\n",
      "Epoch 3, iter 2700, train loss 1.622, val perplexity 4.80373\n",
      "Epoch 3, iter 2800, train loss 1.595, val perplexity 4.80326\n",
      "Epoch 3, iter 2900, train loss 1.562, val perplexity 4.80281\n",
      "Epoch 3, iter 3000, train loss 1.553, val perplexity 4.80236\n",
      "Epoch 4, iter 0, train loss 1.520, val perplexity 4.80227\n",
      "Epoch 4, iter 100, train loss 1.570, val perplexity 4.80192\n",
      "Epoch 4, iter 200, train loss 1.569, val perplexity 4.80140\n",
      "Epoch 4, iter 300, train loss 1.576, val perplexity 4.80111\n",
      "Epoch 4, iter 400, train loss 1.543, val perplexity 4.80074\n",
      "Epoch 4, iter 500, train loss 1.610, val perplexity 4.80041\n",
      "Epoch 4, iter 600, train loss 1.576, val perplexity 4.80006\n",
      "Epoch 4, iter 700, train loss 1.572, val perplexity 4.79980\n",
      "Epoch 4, iter 800, train loss 1.531, val perplexity 4.79941\n",
      "Epoch 4, iter 900, train loss 1.592, val perplexity 4.79916\n",
      "Epoch 4, iter 1000, train loss 1.616, val perplexity 4.79881\n",
      "Epoch 4, iter 1100, train loss 1.552, val perplexity 4.79852\n",
      "Epoch 4, iter 1200, train loss 1.555, val perplexity 4.79816\n",
      "Epoch 4, iter 1300, train loss 1.559, val perplexity 4.79789\n",
      "Epoch 4, iter 1400, train loss 1.575, val perplexity 4.79779\n",
      "Epoch 4, iter 1500, train loss 1.551, val perplexity 4.79757\n",
      "Epoch 4, iter 1600, train loss 1.560, val perplexity 4.79729\n",
      "Epoch 4, iter 1700, train loss 1.561, val perplexity 4.79705\n",
      "Epoch 4, iter 1800, train loss 1.601, val perplexity 4.79683\n",
      "Epoch 4, iter 1900, train loss 1.623, val perplexity 4.79668\n",
      "Epoch 4, iter 2000, train loss 1.599, val perplexity 4.79643\n",
      "Epoch 4, iter 2100, train loss 1.590, val perplexity 4.79631\n",
      "Epoch 4, iter 2200, train loss 1.558, val perplexity 4.79615\n",
      "Epoch 4, iter 2300, train loss 1.525, val perplexity 4.79596\n",
      "Epoch 4, iter 2400, train loss 1.539, val perplexity 4.79583\n",
      "Epoch 4, iter 2500, train loss 1.563, val perplexity 4.79558\n",
      "Epoch 4, iter 2600, train loss 1.591, val perplexity 4.79545\n",
      "Epoch 4, iter 2700, train loss 1.521, val perplexity 4.79524\n",
      "Epoch 4, iter 2800, train loss 1.575, val perplexity 4.79513\n",
      "Epoch 4, iter 2900, train loss 1.576, val perplexity 4.79506\n",
      "Epoch 4, iter 3000, train loss 1.547, val perplexity 4.79490\n",
      "Epoch 5, iter 0, train loss 1.539, val perplexity 4.79486\n",
      "Epoch 5, iter 100, train loss 1.568, val perplexity 4.79480\n",
      "Epoch 5, iter 200, train loss 1.569, val perplexity 4.79471\n",
      "Epoch 5, iter 300, train loss 1.601, val perplexity 4.79453\n",
      "Epoch 5, iter 400, train loss 1.583, val perplexity 4.79449\n",
      "Epoch 5, iter 500, train loss 1.590, val perplexity 4.79446\n",
      "Epoch 5, iter 600, train loss 1.556, val perplexity 4.79428\n",
      "Epoch 5, iter 700, train loss 1.540, val perplexity 4.79427\n",
      "Epoch 5, iter 800, train loss 1.568, val perplexity 4.79408\n",
      "Epoch 5, iter 900, train loss 1.548, val perplexity 4.79403\n",
      "Epoch 5, iter 1000, train loss 1.571, val perplexity 4.79394\n",
      "Epoch 5, iter 1100, train loss 1.543, val perplexity 4.79381\n",
      "Epoch 5, iter 1200, train loss 1.574, val perplexity 4.79374\n",
      "Epoch 5, iter 1300, train loss 1.602, val perplexity 4.79369\n",
      "Epoch 5, iter 1400, train loss 1.572, val perplexity 4.79358\n",
      "Epoch 5, iter 1500, train loss 1.583, val perplexity 4.79348\n",
      "Epoch 5, iter 1600, train loss 1.588, val perplexity 4.79347\n",
      "Epoch 5, iter 1700, train loss 1.565, val perplexity 4.79347\n",
      "Epoch 5, iter 1800, train loss 1.569, val perplexity 4.79332\n",
      "Epoch 5, iter 1900, train loss 1.548, val perplexity 4.79323\n",
      "Epoch 5, iter 2000, train loss 1.559, val perplexity 4.79323\n",
      "Epoch 5, iter 2100, train loss 1.599, val perplexity 4.79318\n",
      "Epoch 5, iter 2200, train loss 1.581, val perplexity 4.79318\n",
      "Epoch 5, iter 2300, train loss 1.530, val perplexity 4.79305\n",
      "Epoch 5, iter 2400, train loss 1.576, val perplexity 4.79312\n",
      "Epoch 5, iter 2500, train loss 1.561, val perplexity 4.79304\n",
      "Epoch 5, iter 2600, train loss 1.553, val perplexity 4.79298\n",
      "Epoch 5, iter 2700, train loss 1.535, val perplexity 4.79300\n",
      "Epoch 5, iter 2800, train loss 1.569, val perplexity 4.79297\n",
      "Epoch 5, iter 2900, train loss 1.543, val perplexity 4.79285\n",
      "Epoch 5, iter 3000, train loss 1.589, val perplexity 4.79279\n",
      "Epoch 6, iter 0, train loss 1.545, val perplexity 4.79279\n",
      "Epoch 6, iter 100, train loss 1.613, val perplexity 4.79277\n",
      "Epoch 6, iter 200, train loss 1.548, val perplexity 4.79275\n",
      "Epoch 6, iter 300, train loss 1.573, val perplexity 4.79275\n",
      "Epoch 6, iter 400, train loss 1.556, val perplexity 4.79269\n",
      "Epoch 6, iter 500, train loss 1.555, val perplexity 4.79263\n",
      "Epoch 6, iter 600, train loss 1.528, val perplexity 4.79261\n",
      "Epoch 6, iter 700, train loss 1.527, val perplexity 4.79269\n",
      "Epoch 6, iter 800, train loss 1.540, val perplexity 4.79256\n",
      "Epoch 6, iter 900, train loss 1.585, val perplexity 4.79248\n",
      "Epoch 6, iter 1000, train loss 1.564, val perplexity 4.79251\n",
      "Epoch 6, iter 1100, train loss 1.542, val perplexity 4.79248\n",
      "Epoch 6, iter 1200, train loss 1.613, val perplexity 4.79246\n",
      "Epoch 6, iter 1300, train loss 1.575, val perplexity 4.79240\n",
      "Epoch 6, iter 1400, train loss 1.543, val perplexity 4.79233\n",
      "Epoch 6, iter 1500, train loss 1.572, val perplexity 4.79232\n",
      "Epoch 6, iter 1600, train loss 1.608, val perplexity 4.79226\n",
      "Epoch 6, iter 1700, train loss 1.562, val perplexity 4.79224\n",
      "Epoch 6, iter 1800, train loss 1.584, val perplexity 4.79229\n",
      "Epoch 6, iter 1900, train loss 1.536, val perplexity 4.79232\n",
      "Epoch 6, iter 2000, train loss 1.524, val perplexity 4.79231\n",
      "Epoch 6, iter 2100, train loss 1.536, val perplexity 4.79227\n",
      "Epoch 6, iter 2200, train loss 1.563, val perplexity 4.79223\n",
      "Epoch 6, iter 2300, train loss 1.573, val perplexity 4.79226\n",
      "Epoch 6, iter 2400, train loss 1.538, val perplexity 4.79230\n",
      "Epoch 6, iter 2500, train loss 1.573, val perplexity 4.79224\n",
      "Epoch 6, iter 2600, train loss 1.606, val perplexity 4.79219\n",
      "Epoch 6, iter 2700, train loss 1.539, val perplexity 4.79223\n",
      "Epoch 6, iter 2800, train loss 1.574, val perplexity 4.79216\n",
      "Epoch 6, iter 2900, train loss 1.582, val perplexity 4.79214\n",
      "Epoch 6, iter 3000, train loss 1.581, val perplexity 4.79211\n",
      "Epoch 7, iter 0, train loss 1.586, val perplexity 4.79209\n",
      "Epoch 7, iter 100, train loss 1.586, val perplexity 4.79212\n",
      "Epoch 7, iter 200, train loss 1.585, val perplexity 4.79217\n",
      "Epoch 7, iter 300, train loss 1.583, val perplexity 4.79227\n",
      "Epoch 7, iter 400, train loss 1.573, val perplexity 4.79208\n",
      "Epoch 7, iter 500, train loss 1.599, val perplexity 4.79205\n",
      "Epoch 7, iter 600, train loss 1.531, val perplexity 4.79208\n",
      "Epoch 7, iter 700, train loss 1.606, val perplexity 4.79202\n",
      "Epoch 7, iter 800, train loss 1.589, val perplexity 4.79202\n",
      "Epoch 7, iter 900, train loss 1.543, val perplexity 4.79212\n",
      "Epoch 7, iter 1000, train loss 1.576, val perplexity 4.79213\n",
      "Epoch 7, iter 1100, train loss 1.563, val perplexity 4.79207\n",
      "Epoch 7, iter 1200, train loss 1.581, val perplexity 4.79206\n",
      "Epoch 7, iter 1300, train loss 1.591, val perplexity 4.79199\n",
      "Epoch 7, iter 1400, train loss 1.562, val perplexity 4.79195\n",
      "Epoch 7, iter 1500, train loss 1.533, val perplexity 4.79199\n",
      "Epoch 7, iter 1600, train loss 1.536, val perplexity 4.79202\n",
      "Epoch 7, iter 1700, train loss 1.554, val perplexity 4.79206\n",
      "Epoch 7, iter 1800, train loss 1.565, val perplexity 4.79201\n",
      "Epoch 7, iter 1900, train loss 1.541, val perplexity 4.79199\n",
      "Epoch 7, iter 2000, train loss 1.533, val perplexity 4.79195\n",
      "Epoch 7, iter 2100, train loss 1.555, val perplexity 4.79194\n",
      "Epoch 7, iter 2200, train loss 1.558, val perplexity 4.79192\n",
      "Epoch 7, iter 2300, train loss 1.527, val perplexity 4.79196\n",
      "Epoch 7, iter 2400, train loss 1.599, val perplexity 4.79195\n",
      "Epoch 7, iter 2500, train loss 1.630, val perplexity 4.79196\n",
      "Epoch 7, iter 2600, train loss 1.619, val perplexity 4.79197\n",
      "Epoch 7, iter 2700, train loss 1.537, val perplexity 4.79194\n",
      "Epoch 7, iter 2800, train loss 1.553, val perplexity 4.79197\n",
      "Epoch 7, iter 2900, train loss 1.560, val perplexity 4.79203\n",
      "Epoch 7, iter 3000, train loss 1.589, val perplexity 4.79190\n",
      "Epoch 8, iter 0, train loss 1.558, val perplexity 4.79190\n",
      "Epoch 8, iter 100, train loss 1.543, val perplexity 4.79199\n",
      "Epoch 8, iter 200, train loss 1.567, val perplexity 4.79198\n",
      "Epoch 8, iter 300, train loss 1.599, val perplexity 4.79195\n",
      "Epoch 8, iter 400, train loss 1.560, val perplexity 4.79198\n",
      "Epoch 8, iter 500, train loss 1.569, val perplexity 4.79191\n",
      "Epoch 8, iter 600, train loss 1.549, val perplexity 4.79200\n",
      "Epoch 8, iter 700, train loss 1.585, val perplexity 4.79195\n",
      "Epoch 8, iter 800, train loss 1.590, val perplexity 4.79198\n",
      "Epoch 8, iter 900, train loss 1.585, val perplexity 4.79204\n",
      "Epoch 8, iter 1000, train loss 1.582, val perplexity 4.79201\n",
      "Epoch 8, iter 1100, train loss 1.558, val perplexity 4.79200\n",
      "Epoch 8, iter 1200, train loss 1.520, val perplexity 4.79202\n",
      "Epoch 8, iter 1300, train loss 1.588, val perplexity 4.79201\n",
      "Epoch 8, iter 1400, train loss 1.556, val perplexity 4.79201\n",
      "Epoch 8, iter 1500, train loss 1.529, val perplexity 4.79189\n",
      "Epoch 8, iter 1600, train loss 1.569, val perplexity 4.79186\n",
      "Epoch 8, iter 1700, train loss 1.539, val perplexity 4.79182\n",
      "Epoch 8, iter 1800, train loss 1.636, val perplexity 4.79178\n",
      "Epoch 8, iter 1900, train loss 1.536, val perplexity 4.79179\n",
      "Epoch 8, iter 2000, train loss 1.547, val perplexity 4.79180\n",
      "Epoch 8, iter 2100, train loss 1.598, val perplexity 4.79194\n",
      "Epoch 8, iter 2200, train loss 1.527, val perplexity 4.79190\n",
      "Epoch 8, iter 2300, train loss 1.567, val perplexity 4.79184\n",
      "Epoch 8, iter 2400, train loss 1.564, val perplexity 4.79183\n",
      "Epoch 8, iter 2500, train loss 1.553, val perplexity 4.79192\n",
      "Epoch 8, iter 2600, train loss 1.542, val perplexity 4.79191\n",
      "Epoch 8, iter 2700, train loss 1.563, val perplexity 4.79192\n",
      "Epoch 8, iter 2800, train loss 1.567, val perplexity 4.79188\n",
      "Epoch 8, iter 2900, train loss 1.580, val perplexity 4.79177\n",
      "Epoch 8, iter 3000, train loss 1.551, val perplexity 4.79179\n",
      "Epoch 9, iter 0, train loss 1.567, val perplexity 4.79179\n",
      "Epoch 9, iter 100, train loss 1.571, val perplexity 4.79185\n",
      "Epoch 9, iter 200, train loss 1.576, val perplexity 4.79187\n",
      "Epoch 9, iter 300, train loss 1.578, val perplexity 4.79184\n",
      "Epoch 9, iter 400, train loss 1.593, val perplexity 4.79181\n",
      "Epoch 9, iter 500, train loss 1.595, val perplexity 4.79183\n",
      "Epoch 9, iter 600, train loss 1.592, val perplexity 4.79173\n",
      "Epoch 9, iter 700, train loss 1.554, val perplexity 4.79169\n",
      "Epoch 9, iter 800, train loss 1.579, val perplexity 4.79179\n",
      "Epoch 9, iter 900, train loss 1.583, val perplexity 4.79188\n",
      "Epoch 9, iter 1000, train loss 1.532, val perplexity 4.79181\n",
      "Epoch 9, iter 1100, train loss 1.561, val perplexity 4.79181\n",
      "Epoch 9, iter 1200, train loss 1.540, val perplexity 4.79177\n",
      "Epoch 9, iter 1300, train loss 1.555, val perplexity 4.79179\n",
      "Epoch 9, iter 1400, train loss 1.550, val perplexity 4.79187\n",
      "Epoch 9, iter 1500, train loss 1.554, val perplexity 4.79184\n",
      "Epoch 9, iter 1600, train loss 1.602, val perplexity 4.79190\n",
      "Epoch 9, iter 1700, train loss 1.556, val perplexity 4.79185\n",
      "Epoch 9, iter 1800, train loss 1.571, val perplexity 4.79184\n",
      "Epoch 9, iter 1900, train loss 1.525, val perplexity 4.79194\n",
      "Epoch 9, iter 2000, train loss 1.588, val perplexity 4.79188\n",
      "Epoch 9, iter 2100, train loss 1.530, val perplexity 4.79193\n",
      "Epoch 9, iter 2200, train loss 1.588, val perplexity 4.79187\n",
      "Epoch 9, iter 2300, train loss 1.578, val perplexity 4.79190\n",
      "Epoch 9, iter 2400, train loss 1.572, val perplexity 4.79186\n",
      "Epoch 9, iter 2500, train loss 1.553, val perplexity 4.79189\n",
      "Epoch 9, iter 2600, train loss 1.567, val perplexity 4.79179\n",
      "Epoch 9, iter 2700, train loss 1.572, val perplexity 4.79172\n",
      "Epoch 9, iter 2800, train loss 1.558, val perplexity 4.79176\n",
      "Epoch 9, iter 2900, train loss 1.534, val perplexity 4.79190\n",
      "Epoch 9, iter 3000, train loss 1.570, val perplexity 4.79183\n"
     ]
    }
   ],
   "source": [
    "train_model(model, train_loader, valid_loader, epochs=10, lr=1e-3, eval_every=100)"
   ]
  },
  {
   "cell_type": "markdown",
   "metadata": {},
   "source": [
    "We can now test the model by generating new SMILES strings. We will start with a random token and generate 100 new tokens."
   ]
  },
  {
   "cell_type": "code",
   "execution_count": 368,
   "metadata": {},
   "outputs": [],
   "source": [
    "a = torch.tensor([[4]])\n",
    "a = a.to(device)\n",
    "generation = model.generate(a, max_new_tokens=30).cpu().numpy()\n",
    "smiles = tokenizer.decode(generation[0])"
   ]
  },
  {
   "cell_type": "code",
   "execution_count": 369,
   "metadata": {},
   "outputs": [
    {
     "data": {
      "text/plain": [
       "'[C@@](O)C'"
      ]
     },
     "execution_count": 369,
     "metadata": {},
     "output_type": "execute_result"
    }
   ],
   "source": [
    "smiles"
   ]
  },
  {
   "cell_type": "code",
   "execution_count": 370,
   "metadata": {},
   "outputs": [
    {
     "data": {
      "image/png": "[encoded data removed]",
      "text/plain": [
       "<rdkit.Chem.rdchem.Mol at 0x4722895b0>"
      ]
     },
     "execution_count": 370,
     "metadata": {},
     "output_type": "execute_result"
    }
   ],
   "source": [
    "Chem.MolFromSmiles(smiles)"
   ]
  },
  {
   "cell_type": "markdown",
   "metadata": {},
   "source": [
    "This does not look too bad, but we can do better (if you would run the code multiple times, you would see that the results are not always a valid SMILES)."
   ]
  },
  {
   "cell_type": "markdown",
   "metadata": {},
   "source": [
    "## Making tokens talk using attention"
   ]
  },
  {
   "cell_type": "markdown",
   "metadata": {},
   "source": [
    "In our bigram models we made predictions based on the previous word.\n",
    "This is clearly not enough to make good predictions.\n",
    "We can improve our model by taking into more past tokens into account.\n",
    "\n",
    "One naïve way to incorporate more context into our model might be to simply \"pool\" (features of) the preceding tokens.\n",
    "This kind of pooling is similar to what we do in GNNs, e.g., to combine node embeddings. \n",
    "\n",
    "A very simple pooling operation is the average of the embeddings of the preceding tokens. Later, when we will implement self-attention, we will not use a simple average, but a special weighted average. "
   ]
  },
  {
   "cell_type": "code",
   "execution_count": 371,
   "metadata": {},
   "outputs": [],
   "source": [
    "B, T, C = 2, 5, 3 # batch size, time (sequence length), channels (features)\n",
    "\n",
    "# create random data of shape (B, T, C)\n",
    "x = torch.randn(B,T,C)\n",
    "\n",
    "x_bag_of_words = torch.zeros((B,T,C))\n",
    "for b in range(B):\n",
    "    for t in range(T):\n",
    "        x_prev = x[b,:t+1] # shape (t, C)\n",
    "        \n",
    "        x_bag_of_words[b, t] = torch.mean(x_prev, dim=0) # shape (C,)"
   ]
  },
  {
   "cell_type": "markdown",
   "metadata": {},
   "source": [
    "### Interlude: Causal masking"
   ]
  },
  {
   "cell_type": "markdown",
   "metadata": {},
   "source": [
    "This nested for loop for averaging is slow. However, we can implement this in an efficient way if we observe a few things: \n",
    "\n",
    "- If we want to predict next tokens, we do not want to let the future tokens influence the prediction. \n",
    "Therefore, we can use a so-called causal mask to mask out the future tokens.\n",
    "\n",
    "- A matrix multiplication can be thought of as a weighted sum of the rows of the matrix, where the weights are given by the columns of the matrix. This is easy to see if we think of the following extremes: \n",
    "\n",
    "  - We can compute the sum of the rows of a matrix by multiplying the matrix with a lower-triangular matrix filled with ones.\n",
    "   - We can compute the mean of the rows of a matrix by multiplying the matrix with a lower-triangular matrix filled with ones and dividing by the number of ones in the lower-triangular matrix.\n",
    "  "
   ]
  },
  {
   "cell_type": "markdown",
   "metadata": {},
   "source": [
    "In `torch` we can use `tril` to create a lower-triangular matrix."
   ]
  },
  {
   "cell_type": "code",
   "execution_count": 372,
   "metadata": {},
   "outputs": [],
   "source": [
    "lower_triangular_mask = torch.tril(torch.ones((T,T)))\n",
    "\n",
    "weight = torch.ones((T,T))\n",
    "weight = torch.masked_fill(weight, lower_triangular_mask==0, float('-inf'))\n",
    "\n",
    "weight = torch.softmax(weight, dim=1)"
   ]
  },
  {
   "cell_type": "code",
   "execution_count": 373,
   "metadata": {},
   "outputs": [
    {
     "data": {
      "text/plain": [
       "tensor([[1.0000, 0.0000, 0.0000, 0.0000, 0.0000],\n",
       "        [0.5000, 0.5000, 0.0000, 0.0000, 0.0000],\n",
       "        [0.3333, 0.3333, 0.3333, 0.0000, 0.0000],\n",
       "        [0.2500, 0.2500, 0.2500, 0.2500, 0.0000],\n",
       "        [0.2000, 0.2000, 0.2000, 0.2000, 0.2000]])"
      ]
     },
     "execution_count": 373,
     "metadata": {},
     "output_type": "execute_result"
    }
   ],
   "source": [
    "weight  "
   ]
  },
  {
   "cell_type": "markdown",
   "metadata": {},
   "source": [
    "We used the softmax function to normalize the weights in the rows. "
   ]
  },
  {
   "cell_type": "code",
   "execution_count": 374,
   "metadata": {},
   "outputs": [
    {
     "data": {
      "text/plain": [
       "tensor([[[ 2.7713,  0.4576,  2.1195],\n",
       "         [ 1.8329,  0.5148,  0.9036],\n",
       "         [ 0.9509,  0.0041,  0.9987],\n",
       "         [ 0.3513, -0.1176,  0.5793],\n",
       "         [ 0.1679, -0.1204,  0.5011]],\n",
       "\n",
       "        [[-0.3739, -0.3857, -0.7389],\n",
       "         [-0.5810, -0.5098, -1.7110],\n",
       "         [-0.3690, -0.4240, -1.1107],\n",
       "         [-0.0953, -0.3274, -0.5838],\n",
       "         [ 0.1815, -0.3243, -0.4050]]])"
      ]
     },
     "execution_count": 374,
     "metadata": {},
     "output_type": "execute_result"
    }
   ],
   "source": [
    "weight @ x"
   ]
  },
  {
   "cell_type": "markdown",
   "metadata": {},
   "source": [
    "### Attention as special weighted average"
   ]
  },
  {
   "cell_type": "markdown",
   "metadata": {},
   "source": [
    "In the simple average we used above, all past tokens were treated equally.\n",
    "However, it might be useful to _pay more attention_  to certain tokens than to others. That is, we want to gather information from the past -- but do this in a data-dependent way.\n",
    "The attention mechanism allows us to do this.\n",
    "\n",
    "The attention mechanism does this by having a query vector $q$ and a key vector $k$ for each token. We then define \"similarity\" or \"relevance\" between two tokens $i$ and $j$ as the dot product between their query and key vectors, which we derive from the embeddings of the tokens by multiplying them with the learnable weight matrices $W_q$ and $W_k$.\n",
    "\n",
    "$$\n",
    "\\text{sim}(i, j) = a(i, h) = q_ik_j^T = \\text{emb}_i W_q W_k^T \\text{emb}_j^T\n",
    "$$"
   ]
  },
  {
   "cell_type": "markdown",
   "metadata": {},
   "source": [
    "Note that this gives us now a way to refine the `weight_matrix` we used above. Instead of weighting all tokens equally, we can now learn a weight matrix that tells us how much attention to pay to each token.\n",
    "\n",
    "To start the implementation, we will first derive query and key vectors from the embeddings. We will then compute the similarity matrix and apply the softmax function to normalize the weights."
   ]
  },
  {
   "cell_type": "code",
   "execution_count": 375,
   "metadata": {},
   "outputs": [],
   "source": [
    "B, T, C = 2, 5, 3 # batch size, time (sequence length), channels (features)\n",
    "x = torch.randn(B,T,C)\n",
    "\n",
    "head_size = 16 # hyperparameter\n",
    "\n",
    "# with bias = False, it only perform matrix multiplication\n",
    "key_layer = nn.Linear(C, head_size, bias=False)  \n",
    "query_layer = nn.Linear(C, head_size, bias=False)"
   ]
  },
  {
   "cell_type": "markdown",
   "metadata": {},
   "source": [
    "The attention matrix defined above is now a simple matrix multiplication between the query and key vectors. The attention matrix is then normalized using a softmax function."
   ]
  },
  {
   "cell_type": "code",
   "execution_count": 376,
   "metadata": {},
   "outputs": [],
   "source": [
    "query = query_layer(x) # shape (B, T, head_size)\n",
    "key = key_layer(x) # shape (B, T, head_size)"
   ]
  },
  {
   "cell_type": "code",
   "execution_count": 377,
   "metadata": {},
   "outputs": [],
   "source": [
    "attention = query @ key.transpose(1,2) # shape (B, T, T)"
   ]
  },
  {
   "cell_type": "markdown",
   "metadata": {},
   "source": [
    "Note that the shape of the attention matrix is (B, T, T). The attention matrix is a matrix where each row corresponds to a query and each column corresponds to a key. The value at position (i, j) in the attention matrix is the attention score between the i-th query and the j-th key."
   ]
  },
  {
   "cell_type": "code",
   "execution_count": 378,
   "metadata": {},
   "outputs": [
    {
     "data": {
      "text/plain": [
       "tensor([[[-0.1377,  0.3945, -0.1910, -0.3166,  0.5705],\n",
       "         [ 0.2263, -1.1153,  0.0163,  1.0653, -0.9115],\n",
       "         [-0.3157,  0.5693, -0.7330, -0.4713,  1.6627],\n",
       "         [-0.1497,  0.9112, -0.0370, -1.1351,  1.1552],\n",
       "         [ 0.6523, -1.6878,  1.3558,  1.8505, -4.0957]],\n",
       "\n",
       "        [[-0.4646,  0.6153, -0.3081,  1.0515,  0.5917],\n",
       "         [ 0.3343, -1.2245, -0.7600, -1.6172, -1.2108],\n",
       "         [-0.6809, -0.0852, -1.6940,  0.4584, -0.1262],\n",
       "         [ 0.7665, -1.8694, -0.5606, -2.6797, -1.8310],\n",
       "         [ 0.2937, -1.1780, -0.7986, -1.5304, -1.1683]]],\n",
       "       grad_fn=<UnsafeViewBackward0>)"
      ]
     },
     "execution_count": 378,
     "metadata": {},
     "output_type": "execute_result"
    }
   ],
   "source": [
    "attention"
   ]
  },
  {
   "cell_type": "markdown",
   "metadata": {},
   "source": [
    "But to avoid the future tokens to influence the prediction, we will use a causal mask.\n",
    "We do this the same way as we did above, by using `torch.tril`."
   ]
  },
  {
   "cell_type": "code",
   "execution_count": 379,
   "metadata": {},
   "outputs": [],
   "source": [
    "lower_triangular_mask = torch.tril(torch.ones((T,T)))\n",
    "\n",
    "attention = torch.masked_fill(attention, lower_triangular_mask==0, float('-inf'))   \n",
    "\n",
    "attention = torch.softmax(attention, dim=2) # shape (B, T, T), softmax along the last dimension\n",
    "\n",
    "out = attention @ x # shape (B, T, T) @ (B, T, C) = (B, T, C)"
   ]
  },
  {
   "cell_type": "markdown",
   "metadata": {},
   "source": [
    "In the attention mechanism popularized in the [\"attention is all you need\" paper](https://arxiv.org/abs/1706.03762) we add even more expressive power by transforming `x` before we multiply it with the attention matrix. We call this transformed `x` the value vector (or matrix). The full implementation of the attention mechanism is then:"
   ]
  },
  {
   "cell_type": "code",
   "execution_count": 380,
   "metadata": {},
   "outputs": [],
   "source": [
    "B, T, C = 2, 5, 3 # batch size, time (sequence length), channels (features)\n",
    "x = torch.randn(B,T,C)\n",
    "\n",
    "head_size = 16 # hyperparameter\n",
    "\n",
    "# what do I contain\n",
    "# with bias = False, it only perform matrix multiplication\n",
    "key = nn.Linear(C, head_size, bias=False)\n",
    "\n",
    "# what am I looking for\n",
    "query = nn.Linear(C, head_size, bias=False)\n",
    "\n",
    "# what I will tell you\n",
    "value = nn.Linear(C, head_size, bias=False) # Output: (B, T, head_size)\n",
    "# self-attention because k, q, v come all from the same input\n",
    "k = key(x) # shape (B, T, head_size)\n",
    "q = query(x) # shape (B, T, head_size)\n",
    "v = value(x) # shape (B, T, head_size)\n",
    "\n",
    "# now, we want to compute the attention\n",
    "# we need to compute the dot product between k and q\n",
    "weight_matrix = q @ k.transpose(-2, -1) # shape (B, T, head_size) @ (B, head_size, T) = (B, T, T)\n",
    "\n",
    "# now we add the masking\n",
    "# we want to mask out the future\n",
    "# this is what is known as \"decoder\" block \n",
    "lower_triangular = torch.tril(torch.ones((T,T)))\n",
    "weight_matrix = weight_matrix.masked_fill(lower_triangular==0, float('-inf'))\n",
    "\n",
    "# use softmax to normalize\n",
    "weight_matrix = torch.softmax(weight_matrix, dim=-1)/np.sqrt(head_size) # shape (B, T, T)\n",
    "\n",
    "out = weight_matrix @ v # shape (B, T, T) @ (B, T, head_size) = (B, T, head_size)"
   ]
  },
  {
   "cell_type": "markdown",
   "metadata": {},
   "source": [
    "#### Interlude: Why do we divide by sqrt(head_size) in the self-attention mechanism?"
   ]
  },
  {
   "cell_type": "markdown",
   "metadata": {},
   "source": [
    "We used one more trick to make the training more stable. We scaled the weight_matrix by the square root of the head_size. [This is because the variance of the dot product is proportional to the dimensionality of the vectors.](https://ai.stackexchange.com/questions/21237/why-does-this-multiplication-of-q-and-k-have-a-variance-of-d-k-in-scaled). Not scaling the weight matrix can lead to numerical instability."
   ]
  },
  {
   "cell_type": "markdown",
   "metadata": {},
   "source": [
    "To see this, let's run a quick experiment"
   ]
  },
  {
   "cell_type": "code",
   "execution_count": 381,
   "metadata": {},
   "outputs": [],
   "source": [
    "variances = []\n",
    "dimensions = [1, 10, 100, 1000, 10000, 100000]\n",
    "\n",
    "for d in dimensions:\n",
    "\n",
    "    k = torch.randn(B, T, d)\n",
    "    q = torch.randn(B, T, d)\n",
    "\n",
    "    # compute the batched matrix product between k and q\n",
    "    weight_matrix = torch.bmm(q, k.transpose(-2, -1))   # shape (B, T, head_size) @ (B, head_size, T) = (B, T, T)\n",
    "    variances.append(weight_matrix.var())"
   ]
  },
  {
   "cell_type": "code",
   "execution_count": 382,
   "metadata": {},
   "outputs": [
    {
     "data": {
      "text/plain": [
       "Text(0, 0.5, 'Variance')"
      ]
     },
     "execution_count": 382,
     "metadata": {},
     "output_type": "execute_result"
    },
    {
     "data": {
      "image/png": "[encoded data removed]",
      "text/plain": [
       "<Figure size 640x480 with 1 Axes>"
      ]
     },
     "metadata": {},
     "output_type": "display_data"
    }
   ],
   "source": [
    "plt.plot(dimensions, variances)\n",
    "plt.xscale('log')\n",
    "plt.yscale('log')\n",
    "plt.xlabel('Dimensionality')\n",
    "plt.ylabel('Variance')"
   ]
  },
  {
   "cell_type": "markdown",
   "metadata": {},
   "source": [
    "This has an important impact when we apply `softmax`.\n",
    "Positive and negative \"outliers\" will be \"sequeezed\" to 1 and 0. You can test this by creating a 1D tensor (`a`) and applying softmax on it. \n",
    "Then multiply the values in the tensor  (`a`) and again apply softmax. "
   ]
  },
  {
   "cell_type": "code",
   "execution_count": 383,
   "metadata": {},
   "outputs": [
    {
     "name": "stdout",
     "output_type": "stream",
     "text": [
      "tensor([0.0900, 0.2447, 0.6652]) tensor([0.0000e+00, 3.7835e-44, 1.0000e+00])\n"
     ]
    },
    {
     "name": "stderr",
     "output_type": "stream",
     "text": [
      "/var/folders/m9/_txh68y946s4pxy1x2wnd3lh0000gn/T/ipykernel_51170/1895642280.py:1: UserWarning: Implicit dimension choice for softmax has been deprecated. Change the call to include dim=X as an argument.\n",
      "  print(F.softmax(torch.tensor([1.,2.,3.])),F.softmax(torch.tensor([1.,2.,3.])*100) )\n"
     ]
    }
   ],
   "source": [
    "print(F.softmax(torch.tensor([1.,2.,3.])),F.softmax(torch.tensor([1.,2.,3.])*100) )"
   ]
  },
  {
   "cell_type": "markdown",
   "metadata": {},
   "source": [
    "#### The attention mechanism"
   ]
  },
  {
   "cell_type": "markdown",
   "metadata": {},
   "source": [
    "Written as a formula, the attention mechanism is:\n",
    "\n",
    "$$\n",
    "\\text{Attention}(Q, K, V) = \\text{softmax}\\left(\\frac{QK^T}{\\sqrt{d_k}}\\right)V\n",
    "$$\n",
    "\n",
    "where $Q$ is the query matrix, $K$ is the key matrix, and $V$ is the value matrix."
   ]
  },
  {
   "cell_type": "markdown",
   "metadata": {},
   "source": [
    "### Refactoring into a module"
   ]
  },
  {
   "cell_type": "code",
   "execution_count": 384,
   "metadata": {},
   "outputs": [],
   "source": [
    "class Head(nn.Module):\n",
    "\n",
    "    def __init__(self, n_embed, block_size, head_size):\n",
    "        super().__init__()\n",
    "        self.key = nn.Linear(n_embed, head_size, bias=False)\n",
    "        self.query = nn.Linear(n_embed, head_size, bias=False)\n",
    "        self.value = nn.Linear(n_embed, head_size, bias=False)\n",
    "        \n",
    "        self.register_buffer('lower_triangular', torch.tril(torch.ones(block_size, block_size)))\n",
    "\n",
    "    def forward(self, x): \n",
    "        B, T, C  = x.shape\n",
    "        key = self.key(x)\n",
    "        query = self.query(x) # B, T, head\n",
    "        value = self.value(x)   # B, T, head\n",
    "\n",
    "        weight_matrix = query @ key.transpose(-2, -1) * C ** (-0.5) # shape (B, T, head_size) @ (B, head_size, T) = (B, T, T)\n",
    "        weight_matrix = weight_matrix.masked_fill(self.lower_triangular[:T, :T].logical_not(), float('-inf'))\n",
    "        weight_matrix = F.softmax(weight_matrix, dim=-1)\n",
    "\n",
    "        out = weight_matrix @ value # shape (B, T, T) @ (B, T, head_size) = (B, T, head_size)\n",
    "        return out"
   ]
  },
  {
   "cell_type": "markdown",
   "metadata": {},
   "source": [
    "### Revamped Bigram Model"
   ]
  },
  {
   "cell_type": "markdown",
   "metadata": {},
   "source": [
    "Now, we can use it to \"refine\" our bigram model. \n",
    "We will additionally also perform two more changes:\n",
    "\n",
    "- we will add positional embeddings: We will add the positional embeddings to the input embeddings. This will allow the model to take into account the position of the tokens in the sequence.\n",
    "- we will add one more indirection: One simple way of improving the expressiveness is to add one linear layer. While in the bigram model we only had one embedding layer (that mapped inputs of size `vocab_size` to `vocab_size`), we can now change the embedding layer to map inputs of size `vocab_size` to `embedding_size`. We can then add a linear layer that maps inputs of size `embedding_size` to `vocab_size`. This way, we can learn a more complex mapping from the embeddings to the next token."
   ]
  },
  {
   "cell_type": "code",
   "execution_count": 385,
   "metadata": {},
   "outputs": [],
   "source": [
    "class SelfAttentionModel(nn.Module):\n",
    "    def __init__(self, vocab_size, embedding_dim, sequence_length=100, head_size=4):\n",
    "        super().__init__()\n",
    "\n",
    "        # map the input ids to embeddings\n",
    "        self.token_embedding =  nn.Embedding(vocab_size, embedding_dim)\n",
    "\n",
    "        # add positional embeddings (each position has its own learnable embedding vector)\n",
    "        self.positional_embedding = nn.Embedding(sequence_length, embedding_dim)\n",
    "\n",
    "        # the self-attention layer\n",
    "        self.attention = Head(embedding_dim, sequence_length, head_size)\n",
    "\n",
    "        # the linear layer that maps the output of the self-attention layer to the vocabulary size\n",
    "        self.lm_head = nn.Linear(head_size, vocab_size)\n",
    "\n",
    "        # store the sequence length\n",
    "        self.sequence_length = sequence_length\n",
    "\n",
    "    def forward(self, x):\n",
    "        B, T = x.shape\n",
    "        x = self.token_embedding(x) # B, T, C \n",
    "        x += self.positional_embedding(torch.arange(T, device=device)) # B, T, C\n",
    "        x = self.attention(x) # B, T, head_size\n",
    "        x = self.lm_head(x) # B, T, vocab_size\n",
    "        # The prediction is for each token a probability distribution over the vocabulary\n",
    "        # this indicates how likely each token is the next token\n",
    "        return x\n",
    "\n",
    "        \n",
    "    def loss(self, x, y):\n",
    "        # x is a tensor of shape (B, T)\n",
    "        logits = self.forward(x) # (B, T, C)\n",
    "        B, T, C = logits.shape\n",
    "\n",
    "        # Note that that the implementation below is because of how we - for educational purposes - have defined the dataset\n",
    "        # A better way is to have inputs and outputs of the same length (and to not manually code the sliding window\n",
    "        # but to instead use a causal mask)\n",
    "        logits = logits[:, -1, :] # we only care about the last token \n",
    "        logits = logits.view(B, C)\n",
    "        y = y.view(B)\n",
    "        loss = F.cross_entropy(logits, y)\n",
    "        return loss\n",
    "    \n",
    "    def generate(self, x, max_new_tokens=100):\n",
    "        # x is a tensor of shape (B, T)\n",
    "        # we generate max_new_tokens new tokens\n",
    "        for _t in range(max_new_tokens):\n",
    "            logits = self.forward(x)\n",
    "            logits = logits[:, -1, :]\n",
    "            probs = F.softmax(logits, dim=-1)\n",
    "            next_token = torch.multinomial(probs, num_samples=1)\n",
    "            x = torch.cat([x, next_token], dim=1)\n",
    "        return x\n",
    "        \n",
    "    "
   ]
  },
  {
   "cell_type": "code",
   "execution_count": 386,
   "metadata": {},
   "outputs": [
    {
     "name": "stdout",
     "output_type": "stream",
     "text": [
      "Epoch 0, iter 0, train loss 3.889, val perplexity 46.51448\n",
      "Epoch 0, iter 100, train loss 1.883, val perplexity 6.66113\n",
      "Epoch 0, iter 200, train loss 1.638, val perplexity 5.01923\n",
      "Epoch 0, iter 300, train loss 1.536, val perplexity 4.70023\n",
      "Epoch 0, iter 400, train loss 1.548, val perplexity 4.58597\n",
      "Epoch 0, iter 500, train loss 1.504, val perplexity 4.38599\n",
      "Epoch 0, iter 600, train loss 1.441, val perplexity 4.25886\n",
      "Epoch 0, iter 700, train loss 1.469, val perplexity 4.18827\n",
      "Epoch 0, iter 800, train loss 1.392, val perplexity 4.15055\n",
      "Epoch 0, iter 900, train loss 1.401, val perplexity 4.07537\n",
      "Epoch 0, iter 1000, train loss 1.405, val perplexity 3.99194\n",
      "Epoch 0, iter 1100, train loss 1.363, val perplexity 3.90569\n",
      "Epoch 0, iter 1200, train loss 1.358, val perplexity 3.86271\n",
      "Epoch 0, iter 1300, train loss 1.274, val perplexity 3.82789\n",
      "Epoch 0, iter 1400, train loss 1.339, val perplexity 3.80141\n",
      "Epoch 0, iter 1500, train loss 1.336, val perplexity 3.77024\n",
      "Epoch 0, iter 1600, train loss 1.320, val perplexity 3.74822\n",
      "Epoch 0, iter 1700, train loss 1.306, val perplexity 3.71429\n",
      "Epoch 0, iter 1800, train loss 1.319, val perplexity 3.67578\n",
      "Epoch 0, iter 1900, train loss 1.317, val perplexity 3.65535\n",
      "Epoch 0, iter 2000, train loss 1.317, val perplexity 3.58378\n",
      "Epoch 0, iter 2100, train loss 1.286, val perplexity 3.55721\n",
      "Epoch 0, iter 2200, train loss 1.259, val perplexity 3.53200\n",
      "Epoch 0, iter 2300, train loss 1.223, val perplexity 3.53396\n",
      "Epoch 0, iter 2400, train loss 1.276, val perplexity 3.51743\n",
      "Epoch 0, iter 2500, train loss 1.250, val perplexity 3.48564\n",
      "Epoch 0, iter 2600, train loss 1.247, val perplexity 3.47809\n",
      "Epoch 0, iter 2700, train loss 1.269, val perplexity 3.46225\n",
      "Epoch 0, iter 2800, train loss 1.275, val perplexity 3.46858\n",
      "Epoch 0, iter 2900, train loss 1.243, val perplexity 3.45377\n",
      "Epoch 0, iter 3000, train loss 1.246, val perplexity 3.45255\n",
      "Epoch 1, iter 0, train loss 1.241, val perplexity 3.43818\n",
      "Epoch 1, iter 100, train loss 1.225, val perplexity 3.43851\n",
      "Epoch 1, iter 200, train loss 1.247, val perplexity 3.41987\n",
      "Epoch 1, iter 300, train loss 1.211, val perplexity 3.43688\n",
      "Epoch 1, iter 400, train loss 1.240, val perplexity 3.40300\n",
      "Epoch 1, iter 500, train loss 1.222, val perplexity 3.37348\n",
      "Epoch 1, iter 600, train loss 1.164, val perplexity 3.33770\n",
      "Epoch 1, iter 700, train loss 1.235, val perplexity 3.32229\n",
      "Epoch 1, iter 800, train loss 1.180, val perplexity 3.31498\n",
      "Epoch 1, iter 900, train loss 1.176, val perplexity 3.32122\n",
      "Epoch 1, iter 1000, train loss 1.178, val perplexity 3.29877\n",
      "Epoch 1, iter 1100, train loss 1.198, val perplexity 3.28752\n",
      "Epoch 1, iter 1200, train loss 1.145, val perplexity 3.28561\n",
      "Epoch 1, iter 1300, train loss 1.212, val perplexity 3.26526\n",
      "Epoch 1, iter 1400, train loss 1.222, val perplexity 3.27166\n",
      "Epoch 1, iter 1500, train loss 1.179, val perplexity 3.26950\n",
      "Epoch 1, iter 1600, train loss 1.183, val perplexity 3.25246\n",
      "Epoch 1, iter 1700, train loss 1.204, val perplexity 3.25885\n",
      "Epoch 1, iter 1800, train loss 1.181, val perplexity 3.25160\n",
      "Epoch 1, iter 1900, train loss 1.163, val perplexity 3.24419\n",
      "Epoch 1, iter 2000, train loss 1.137, val perplexity 3.23455\n",
      "Epoch 1, iter 2100, train loss 1.203, val perplexity 3.23678\n",
      "Epoch 1, iter 2200, train loss 1.216, val perplexity 3.23619\n",
      "Epoch 1, iter 2300, train loss 1.185, val perplexity 3.23046\n",
      "Epoch 1, iter 2400, train loss 1.203, val perplexity 3.22142\n",
      "Epoch 1, iter 2500, train loss 1.188, val perplexity 3.22653\n",
      "Epoch 1, iter 2600, train loss 1.157, val perplexity 3.21694\n",
      "Epoch 1, iter 2700, train loss 1.187, val perplexity 3.21164\n",
      "Epoch 1, iter 2800, train loss 1.130, val perplexity 3.20060\n",
      "Epoch 1, iter 2900, train loss 1.143, val perplexity 3.19579\n",
      "Epoch 1, iter 3000, train loss 1.195, val perplexity 3.19294\n",
      "Epoch 2, iter 0, train loss 1.126, val perplexity 3.20773\n",
      "Epoch 2, iter 100, train loss 1.202, val perplexity 3.19967\n",
      "Epoch 2, iter 200, train loss 1.174, val perplexity 3.18501\n",
      "Epoch 2, iter 300, train loss 1.188, val perplexity 3.18238\n",
      "Epoch 2, iter 400, train loss 1.138, val perplexity 3.18118\n",
      "Epoch 2, iter 500, train loss 1.136, val perplexity 3.18097\n",
      "Epoch 2, iter 600, train loss 1.168, val perplexity 3.17053\n",
      "Epoch 2, iter 700, train loss 1.120, val perplexity 3.15899\n",
      "Epoch 2, iter 800, train loss 1.159, val perplexity 3.15819\n",
      "Epoch 2, iter 900, train loss 1.118, val perplexity 3.17680\n",
      "Epoch 2, iter 1000, train loss 1.097, val perplexity 3.15708\n",
      "Epoch 2, iter 1100, train loss 1.157, val perplexity 3.15672\n",
      "Epoch 2, iter 1200, train loss 1.170, val perplexity 3.16435\n",
      "Epoch 2, iter 1300, train loss 1.156, val perplexity 3.16167\n",
      "Epoch 2, iter 1400, train loss 1.141, val perplexity 3.15502\n",
      "Epoch 2, iter 1500, train loss 1.138, val perplexity 3.13853\n",
      "Epoch 2, iter 1600, train loss 1.179, val perplexity 3.14547\n",
      "Epoch 2, iter 1700, train loss 1.116, val perplexity 3.14258\n",
      "Epoch 2, iter 1800, train loss 1.125, val perplexity 3.14083\n",
      "Epoch 2, iter 1900, train loss 1.158, val perplexity 3.14367\n",
      "Epoch 2, iter 2000, train loss 1.153, val perplexity 3.15006\n",
      "Epoch 2, iter 2100, train loss 1.071, val perplexity 3.14123\n",
      "Epoch 2, iter 2200, train loss 1.087, val perplexity 3.13333\n",
      "Epoch 2, iter 2300, train loss 1.100, val perplexity 3.13311\n",
      "Epoch 2, iter 2400, train loss 1.177, val perplexity 3.12805\n",
      "Epoch 2, iter 2500, train loss 1.139, val perplexity 3.12344\n",
      "Epoch 2, iter 2600, train loss 1.172, val perplexity 3.13074\n",
      "Epoch 2, iter 2700, train loss 1.152, val perplexity 3.12924\n",
      "Epoch 2, iter 2800, train loss 1.169, val perplexity 3.12610\n",
      "Epoch 2, iter 2900, train loss 1.146, val perplexity 3.12171\n",
      "Epoch 2, iter 3000, train loss 1.104, val perplexity 3.12374\n",
      "Epoch 3, iter 0, train loss 1.138, val perplexity 3.11965\n",
      "Epoch 3, iter 100, train loss 1.130, val perplexity 3.11538\n",
      "Epoch 3, iter 200, train loss 1.149, val perplexity 3.12729\n",
      "Epoch 3, iter 300, train loss 1.142, val perplexity 3.12698\n",
      "Epoch 3, iter 400, train loss 1.184, val perplexity 3.11725\n",
      "Epoch 3, iter 500, train loss 1.139, val perplexity 3.12115\n",
      "Epoch 3, iter 600, train loss 1.109, val perplexity 3.12539\n",
      "Epoch 3, iter 700, train loss 1.147, val perplexity 3.11643\n",
      "Epoch 3, iter 800, train loss 1.129, val perplexity 3.12205\n",
      "Epoch 3, iter 900, train loss 1.150, val perplexity 3.12080\n",
      "Epoch 3, iter 1000, train loss 1.148, val perplexity 3.10857\n",
      "Epoch 3, iter 1100, train loss 1.158, val perplexity 3.10570\n",
      "Epoch 3, iter 1200, train loss 1.160, val perplexity 3.11082\n",
      "Epoch 3, iter 1300, train loss 1.096, val perplexity 3.10202\n",
      "Epoch 3, iter 1400, train loss 1.136, val perplexity 3.11115\n",
      "Epoch 3, iter 1500, train loss 1.160, val perplexity 3.12037\n",
      "Epoch 3, iter 1600, train loss 1.115, val perplexity 3.10564\n",
      "Epoch 3, iter 1700, train loss 1.141, val perplexity 3.10538\n",
      "Epoch 3, iter 1800, train loss 1.103, val perplexity 3.10921\n",
      "Epoch 3, iter 1900, train loss 1.126, val perplexity 3.11212\n",
      "Epoch 3, iter 2000, train loss 1.118, val perplexity 3.10539\n",
      "Epoch 3, iter 2100, train loss 1.119, val perplexity 3.09715\n",
      "Epoch 3, iter 2200, train loss 1.113, val perplexity 3.10317\n",
      "Epoch 3, iter 2300, train loss 1.120, val perplexity 3.09733\n",
      "Epoch 3, iter 2400, train loss 1.144, val perplexity 3.09822\n",
      "Epoch 3, iter 2500, train loss 1.134, val perplexity 3.10760\n",
      "Epoch 3, iter 2600, train loss 1.179, val perplexity 3.09432\n",
      "Epoch 3, iter 2700, train loss 1.162, val perplexity 3.11052\n",
      "Epoch 3, iter 2800, train loss 1.158, val perplexity 3.11656\n",
      "Epoch 3, iter 2900, train loss 1.139, val perplexity 3.09534\n",
      "Epoch 3, iter 3000, train loss 1.179, val perplexity 3.10282\n",
      "Epoch 4, iter 0, train loss 1.124, val perplexity 3.10232\n",
      "Epoch 4, iter 100, train loss 1.141, val perplexity 3.09656\n",
      "Epoch 4, iter 200, train loss 1.145, val perplexity 3.09358\n",
      "Epoch 4, iter 300, train loss 1.115, val perplexity 3.09710\n",
      "Epoch 4, iter 400, train loss 1.169, val perplexity 3.09681\n",
      "Epoch 4, iter 500, train loss 1.161, val perplexity 3.10573\n",
      "Epoch 4, iter 600, train loss 1.101, val perplexity 3.10116\n",
      "Epoch 4, iter 700, train loss 1.121, val perplexity 3.08844\n",
      "Epoch 4, iter 800, train loss 1.062, val perplexity 3.09668\n",
      "Epoch 4, iter 900, train loss 1.069, val perplexity 3.09515\n",
      "Epoch 4, iter 1000, train loss 1.113, val perplexity 3.08247\n",
      "Epoch 4, iter 1100, train loss 1.160, val perplexity 3.08931\n",
      "Epoch 4, iter 1200, train loss 1.130, val perplexity 3.08274\n",
      "Epoch 4, iter 1300, train loss 1.183, val perplexity 3.09541\n",
      "Epoch 4, iter 1400, train loss 1.150, val perplexity 3.09614\n",
      "Epoch 4, iter 1500, train loss 1.149, val perplexity 3.08139\n",
      "Epoch 4, iter 1600, train loss 1.131, val perplexity 3.08812\n",
      "Epoch 4, iter 1700, train loss 1.143, val perplexity 3.09312\n",
      "Epoch 4, iter 1800, train loss 1.184, val perplexity 3.08449\n",
      "Epoch 4, iter 1900, train loss 1.115, val perplexity 3.07812\n",
      "Epoch 4, iter 2000, train loss 1.145, val perplexity 3.08757\n",
      "Epoch 4, iter 2100, train loss 1.097, val perplexity 3.08763\n",
      "Epoch 4, iter 2200, train loss 1.086, val perplexity 3.08908\n",
      "Epoch 4, iter 2300, train loss 1.118, val perplexity 3.08329\n",
      "Epoch 4, iter 2400, train loss 1.092, val perplexity 3.07425\n",
      "Epoch 4, iter 2500, train loss 1.077, val perplexity 3.07932\n",
      "Epoch 4, iter 2600, train loss 1.124, val perplexity 3.08189\n",
      "Epoch 4, iter 2700, train loss 1.151, val perplexity 3.09261\n",
      "Epoch 4, iter 2800, train loss 1.119, val perplexity 3.07745\n",
      "Epoch 4, iter 2900, train loss 1.099, val perplexity 3.07391\n",
      "Epoch 4, iter 3000, train loss 1.123, val perplexity 3.09299\n",
      "Epoch 5, iter 0, train loss 1.118, val perplexity 3.08209\n",
      "Epoch 5, iter 100, train loss 1.072, val perplexity 3.08084\n",
      "Epoch 5, iter 200, train loss 1.117, val perplexity 3.09895\n",
      "Epoch 5, iter 300, train loss 1.109, val perplexity 3.08415\n",
      "Epoch 5, iter 400, train loss 1.151, val perplexity 3.07640\n",
      "Epoch 5, iter 500, train loss 1.115, val perplexity 3.07644\n",
      "Epoch 5, iter 600, train loss 1.173, val perplexity 3.06789\n",
      "Epoch 5, iter 700, train loss 1.118, val perplexity 3.07208\n",
      "Epoch 5, iter 800, train loss 1.114, val perplexity 3.06964\n",
      "Epoch 5, iter 900, train loss 1.123, val perplexity 3.06521\n",
      "Epoch 5, iter 1000, train loss 1.117, val perplexity 3.07689\n",
      "Epoch 5, iter 1100, train loss 1.105, val perplexity 3.06304\n",
      "Epoch 5, iter 1200, train loss 1.155, val perplexity 3.07131\n",
      "Epoch 5, iter 1300, train loss 1.093, val perplexity 3.06734\n",
      "Epoch 5, iter 1400, train loss 1.058, val perplexity 3.07034\n",
      "Epoch 5, iter 1500, train loss 1.149, val perplexity 3.06001\n",
      "Epoch 5, iter 1600, train loss 1.124, val perplexity 3.06218\n",
      "Epoch 5, iter 1700, train loss 1.131, val perplexity 3.06177\n",
      "Epoch 5, iter 1800, train loss 1.130, val perplexity 3.05882\n",
      "Epoch 5, iter 1900, train loss 1.120, val perplexity 3.06167\n",
      "Epoch 5, iter 2000, train loss 1.075, val perplexity 3.05305\n",
      "Epoch 5, iter 2100, train loss 1.100, val perplexity 3.06269\n",
      "Epoch 5, iter 2200, train loss 1.124, val perplexity 3.06574\n",
      "Epoch 5, iter 2300, train loss 1.126, val perplexity 3.06347\n",
      "Epoch 5, iter 2400, train loss 1.113, val perplexity 3.05534\n",
      "Epoch 5, iter 2500, train loss 1.125, val perplexity 3.08321\n",
      "Epoch 5, iter 2600, train loss 1.099, val perplexity 3.05985\n",
      "Epoch 5, iter 2700, train loss 1.158, val perplexity 3.06098\n",
      "Epoch 5, iter 2800, train loss 1.146, val perplexity 3.05263\n",
      "Epoch 5, iter 2900, train loss 1.171, val perplexity 3.05878\n",
      "Epoch 5, iter 3000, train loss 1.108, val perplexity 3.05882\n",
      "Epoch 6, iter 0, train loss 1.063, val perplexity 3.06478\n",
      "Epoch 6, iter 100, train loss 1.143, val perplexity 3.05597\n",
      "Epoch 6, iter 200, train loss 1.086, val perplexity 3.06243\n",
      "Epoch 6, iter 300, train loss 1.102, val perplexity 3.06036\n",
      "Epoch 6, iter 400, train loss 1.130, val perplexity 3.05022\n",
      "Epoch 6, iter 500, train loss 1.109, val perplexity 3.05755\n",
      "Epoch 6, iter 600, train loss 1.142, val perplexity 3.05923\n",
      "Epoch 6, iter 700, train loss 1.132, val perplexity 3.05757\n",
      "Epoch 6, iter 800, train loss 1.085, val perplexity 3.05189\n",
      "Epoch 6, iter 900, train loss 1.148, val perplexity 3.05542\n",
      "Epoch 6, iter 1000, train loss 1.133, val perplexity 3.06147\n",
      "Epoch 6, iter 1100, train loss 1.145, val perplexity 3.05915\n",
      "Epoch 6, iter 1200, train loss 1.124, val perplexity 3.04750\n",
      "Epoch 6, iter 1300, train loss 1.142, val perplexity 3.05894\n",
      "Epoch 6, iter 1400, train loss 1.103, val perplexity 3.04810\n",
      "Epoch 6, iter 1500, train loss 1.111, val perplexity 3.05013\n",
      "Epoch 6, iter 1600, train loss 1.144, val perplexity 3.04804\n",
      "Epoch 6, iter 1700, train loss 1.106, val perplexity 3.05326\n",
      "Epoch 6, iter 1800, train loss 1.145, val perplexity 3.05340\n",
      "Epoch 6, iter 1900, train loss 1.105, val perplexity 3.04603\n",
      "Epoch 6, iter 2000, train loss 1.058, val perplexity 3.04617\n",
      "Epoch 6, iter 2100, train loss 1.127, val perplexity 3.06316\n",
      "Epoch 6, iter 2200, train loss 1.136, val perplexity 3.05213\n",
      "Epoch 6, iter 2300, train loss 1.125, val perplexity 3.05162\n",
      "Epoch 6, iter 2400, train loss 1.102, val perplexity 3.03990\n",
      "Epoch 6, iter 2500, train loss 1.106, val perplexity 3.04742\n",
      "Epoch 6, iter 2600, train loss 1.132, val perplexity 3.04673\n",
      "Epoch 6, iter 2700, train loss 1.089, val perplexity 3.04486\n",
      "Epoch 6, iter 2800, train loss 1.144, val perplexity 3.04106\n",
      "Epoch 6, iter 2900, train loss 1.092, val perplexity 3.04550\n",
      "Epoch 6, iter 3000, train loss 1.132, val perplexity 3.06314\n",
      "Epoch 7, iter 0, train loss 1.142, val perplexity 3.03925\n",
      "Epoch 7, iter 100, train loss 1.121, val perplexity 3.04713\n",
      "Epoch 7, iter 200, train loss 1.086, val perplexity 3.04520\n",
      "Epoch 7, iter 300, train loss 1.108, val perplexity 3.04185\n",
      "Epoch 7, iter 400, train loss 1.133, val perplexity 3.04060\n",
      "Epoch 7, iter 500, train loss 1.085, val perplexity 3.05072\n",
      "Epoch 7, iter 600, train loss 1.096, val perplexity 3.03975\n",
      "Epoch 7, iter 700, train loss 1.102, val perplexity 3.04847\n",
      "Epoch 7, iter 800, train loss 1.151, val perplexity 3.03987\n",
      "Epoch 7, iter 900, train loss 1.135, val perplexity 3.03406\n",
      "Epoch 7, iter 1000, train loss 1.111, val perplexity 3.03815\n",
      "Epoch 7, iter 1100, train loss 1.103, val perplexity 3.03587\n",
      "Epoch 7, iter 1200, train loss 1.067, val perplexity 3.04825\n",
      "Epoch 7, iter 1300, train loss 1.103, val perplexity 3.04531\n",
      "Epoch 7, iter 1400, train loss 1.131, val perplexity 3.04883\n",
      "Epoch 7, iter 1500, train loss 1.119, val perplexity 3.04364\n",
      "Epoch 7, iter 1600, train loss 1.103, val perplexity 3.04025\n",
      "Epoch 7, iter 1700, train loss 1.173, val perplexity 3.03740\n",
      "Epoch 7, iter 1800, train loss 1.104, val perplexity 3.03997\n",
      "Epoch 7, iter 1900, train loss 1.123, val perplexity 3.03791\n",
      "Epoch 7, iter 2000, train loss 1.104, val perplexity 3.03748\n",
      "Epoch 7, iter 2100, train loss 1.137, val perplexity 3.04537\n",
      "Epoch 7, iter 2200, train loss 1.123, val perplexity 3.04487\n",
      "Epoch 7, iter 2300, train loss 1.141, val perplexity 3.04375\n",
      "Epoch 7, iter 2400, train loss 1.126, val perplexity 3.04109\n",
      "Epoch 7, iter 2500, train loss 1.081, val perplexity 3.03005\n",
      "Epoch 7, iter 2600, train loss 1.139, val perplexity 3.03136\n",
      "Epoch 7, iter 2700, train loss 1.136, val perplexity 3.02734\n",
      "Epoch 7, iter 2800, train loss 1.115, val perplexity 3.03626\n",
      "Epoch 7, iter 2900, train loss 1.096, val perplexity 3.03452\n",
      "Epoch 7, iter 3000, train loss 1.105, val perplexity 3.03231\n",
      "Epoch 8, iter 0, train loss 1.150, val perplexity 3.05440\n",
      "Epoch 8, iter 100, train loss 1.097, val perplexity 3.04180\n",
      "Epoch 8, iter 200, train loss 1.159, val perplexity 3.04235\n",
      "Epoch 8, iter 300, train loss 1.107, val perplexity 3.03960\n",
      "Epoch 8, iter 400, train loss 1.144, val perplexity 3.03573\n",
      "Epoch 8, iter 500, train loss 1.104, val perplexity 3.03618\n",
      "Epoch 8, iter 600, train loss 1.080, val perplexity 3.03417\n",
      "Epoch 8, iter 700, train loss 1.096, val perplexity 3.03178\n",
      "Epoch 8, iter 800, train loss 1.085, val perplexity 3.03982\n",
      "Epoch 8, iter 900, train loss 1.102, val perplexity 3.03049\n",
      "Epoch 8, iter 1000, train loss 1.103, val perplexity 3.03476\n",
      "Epoch 8, iter 1100, train loss 1.084, val perplexity 3.05317\n",
      "Epoch 8, iter 1200, train loss 1.077, val perplexity 3.03353\n",
      "Epoch 8, iter 1300, train loss 1.107, val perplexity 3.04710\n",
      "Epoch 8, iter 1400, train loss 1.095, val perplexity 3.03429\n",
      "Epoch 8, iter 1500, train loss 1.104, val perplexity 3.04726\n",
      "Epoch 8, iter 1600, train loss 1.165, val perplexity 3.04192\n",
      "Epoch 8, iter 1700, train loss 1.083, val perplexity 3.03373\n",
      "Epoch 8, iter 1800, train loss 1.133, val perplexity 3.03319\n",
      "Epoch 8, iter 1900, train loss 1.124, val perplexity 3.03643\n",
      "Epoch 8, iter 2000, train loss 1.099, val perplexity 3.03579\n",
      "Epoch 8, iter 2100, train loss 1.103, val perplexity 3.03267\n",
      "Epoch 8, iter 2200, train loss 1.150, val perplexity 3.03010\n",
      "Epoch 8, iter 2300, train loss 1.113, val perplexity 3.03193\n",
      "Epoch 8, iter 2400, train loss 1.146, val perplexity 3.03401\n",
      "Epoch 8, iter 2500, train loss 1.109, val perplexity 3.02791\n",
      "Epoch 8, iter 2600, train loss 1.089, val perplexity 3.03479\n",
      "Epoch 8, iter 2700, train loss 1.057, val perplexity 3.02521\n",
      "Epoch 8, iter 2800, train loss 1.090, val perplexity 3.02627\n",
      "Epoch 8, iter 2900, train loss 1.126, val perplexity 3.02693\n",
      "Epoch 8, iter 3000, train loss 1.116, val perplexity 3.02471\n",
      "Epoch 9, iter 0, train loss 1.064, val perplexity 3.05216\n",
      "Epoch 9, iter 100, train loss 1.084, val perplexity 3.02992\n",
      "Epoch 9, iter 200, train loss 1.097, val perplexity 3.02944\n",
      "Epoch 9, iter 300, train loss 1.087, val perplexity 3.02935\n",
      "Epoch 9, iter 400, train loss 1.119, val perplexity 3.03229\n",
      "Epoch 9, iter 500, train loss 1.139, val perplexity 3.02652\n",
      "Epoch 9, iter 600, train loss 1.086, val perplexity 3.02736\n",
      "Epoch 9, iter 700, train loss 1.081, val perplexity 3.03402\n",
      "Epoch 9, iter 800, train loss 1.113, val perplexity 3.02297\n",
      "Epoch 9, iter 900, train loss 1.114, val perplexity 3.04144\n",
      "Epoch 9, iter 1000, train loss 1.136, val perplexity 3.03763\n",
      "Epoch 9, iter 1100, train loss 1.106, val perplexity 3.02645\n",
      "Epoch 9, iter 1200, train loss 1.097, val perplexity 3.02900\n",
      "Epoch 9, iter 1300, train loss 1.119, val perplexity 3.03568\n",
      "Epoch 9, iter 1400, train loss 1.116, val perplexity 3.03208\n",
      "Epoch 9, iter 1500, train loss 1.088, val perplexity 3.02868\n",
      "Epoch 9, iter 1600, train loss 1.158, val perplexity 3.02877\n",
      "Epoch 9, iter 1700, train loss 1.136, val perplexity 3.02820\n",
      "Epoch 9, iter 1800, train loss 1.131, val perplexity 3.03247\n",
      "Epoch 9, iter 1900, train loss 1.099, val perplexity 3.02304\n",
      "Epoch 9, iter 2000, train loss 1.083, val perplexity 3.02450\n",
      "Epoch 9, iter 2100, train loss 1.125, val perplexity 3.02888\n",
      "Epoch 9, iter 2200, train loss 1.133, val perplexity 3.03586\n",
      "Epoch 9, iter 2300, train loss 1.103, val perplexity 3.03139\n",
      "Epoch 9, iter 2400, train loss 1.093, val perplexity 3.02467\n",
      "Epoch 9, iter 2500, train loss 1.117, val perplexity 3.02839\n",
      "Epoch 9, iter 2600, train loss 1.145, val perplexity 3.02642\n",
      "Epoch 9, iter 2700, train loss 1.093, val perplexity 3.02810\n",
      "Epoch 9, iter 2800, train loss 1.164, val perplexity 3.03437\n",
      "Epoch 9, iter 2900, train loss 1.081, val perplexity 3.02138\n",
      "Epoch 9, iter 3000, train loss 1.099, val perplexity 3.03002\n"
     ]
    }
   ],
   "source": [
    "model = SelfAttentionModel(len(tokenizer.tokens), embedding_dim=128, sequence_length=40, head_size=16)\n",
    "\n",
    "train_model(model, train_loader, valid_loader, epochs=10, lr=1e-3)"
   ]
  },
  {
   "cell_type": "code",
   "execution_count": 405,
   "metadata": {},
   "outputs": [
    {
     "data": {
      "text/plain": [
       "'C33O4N4S4=ON[C@@H](S)NN'"
      ]
     },
     "execution_count": 405,
     "metadata": {},
     "output_type": "execute_result"
    }
   ],
   "source": [
    "a = torch.tensor([[tokenizer.token_to_index('C')]])\n",
    "a = a.to(device)\n",
    "generation = model.generate(a, max_new_tokens=30).cpu().numpy()\n",
    "tokenizer.decode(generation[0])"
   ]
  },
  {
   "cell_type": "markdown",
   "metadata": {},
   "source": [
    "This is not a good model for generating molecules yet ... (even though our validation loss is lower."
   ]
  },
  {
   "cell_type": "markdown",
   "metadata": {},
   "source": [
    "## Interlude: Additional perspectives on attention"
   ]
  },
  {
   "cell_type": "markdown",
   "metadata": {},
   "source": [
    "### Attention as GNN\n",
    "\n",
    "- In the attention mechanism we learn how different tokens \"communicate\" with each other. If we think of tokens as nodes, attention corresponds to learning the edge weights of a fully connected graph.\n",
    "\n",
    "- The tokens per default have no notion of their position in the sequence. It is basically the communication between sets of vectors.\n",
    "\n",
    "In attentional GNNs, we write for the embeddings: \n",
    "\n",
    "$$\n",
    "\\mathbf{h}_i=\\phi\\left(\\mathbf{x}_i, \\bigoplus_{j \\in \\mathcal{V}} a\\left(\\mathbf{x}_i, \\mathbf{x}_j\\right) \\psi\\left(\\mathbf{x}_j\\right)\\right)\n",
    "$$ \n",
    "\n",
    "where $\\bigoplus$ is a permutation invariant function, e.g., sum or mean over the neighborhood $\\mathcal{V}$. [Does this equation look familiar?](https://petar-v.com/talks/GNN-EEML.pdf)\n",
    "\n",
    "\n",
    "You can find more information [here](https://thegradient.pub/transformers-are-graph-neural-networks/) and [here](https://arxiv.org/pdf/2301.08210.pdf).\n",
    "\n",
    "The main difference is that in the transformer we model a fully connected graph, whereas in GNNs we model a sparse graph (which is an inductive bias). "
   ]
  },
  {
   "cell_type": "markdown",
   "metadata": {},
   "source": [
    "### Attention as Kernel smoothing\n",
    "\n",
    "- Given that we have been introducing the attention mechanism as a way to compute a weighted average of values, the analogy to a kernel is quite natural.\n",
    "\n",
    "To understand this a bit better, let us introduce [kernel smoothing](https://en.wikipedia.org/wiki/Kernel_regression). Again, it is nothing else then a weighted average. In this weighted average, the weights are determined by a kernel function.\n",
    "\n",
    "$$\n",
    "\\sum_{i=1}^n y_i \\frac{K\\left(x_i, x_o\\right)}{\\sum_{j=1}^n K\\left(x_j, x_o\\right)},\n",
    "$$\n",
    "\n",
    "where $(x_1, y_1), \\dots, (x_n, y_n)$ are the training points and $x_o$ is the point at which we want to make a prediction.\n",
    "\n",
    "A common kernel function is the Gaussian kernel:\n",
    "\n",
    "$$\n",
    "K(x, x_o) = \\exp\\left(xx_o\\right)\n",
    "$$\n",
    "\n",
    "where $\\sigma$ is a hyperparameter.\n",
    "\n",
    "We are also free to add weights \n",
    "\n",
    "$$\n",
    "K(x, x_o) = \\exp\\left(\\mathbf{w}_1 x  \\mathbf{w}_2 x_o\\right)\n",
    "$$\n",
    "\n",
    "where $w$ are square weight matrices. For stability, we might divide by the dimensionality of $x$.\n",
    "\n",
    "$$\n",
    "K(x, x_o) = \\exp\\left(\\frac{\\mathbf{w}_1 x  \\mathbf{w}_2 x_o}{\\sqrt{d}}\\right)\n",
    "$$\n",
    "\n",
    "where $d$ is the dimensionality of $x$.\n",
    "\n",
    "Compare this to the attention equation:\n",
    "\n",
    "$$\n",
    "\\text{Attention}(Q, K, V) = \\text{softmax}\\left(\\frac{QK^T}{\\sqrt{d_k}}\\right)V\n",
    "$$\n",
    "\n",
    "where $d_k$ is the dimension of $K$ and $Q$.\n",
    "\n",
    "You can find more information on this perspective [here](http://bactra.org/notebooks/nn-attention-and-transformers.html)."
   ]
  },
  {
   "cell_type": "markdown",
   "metadata": {},
   "source": [
    "## Adding more expressive power with more heads and fully connected layers"
   ]
  },
  {
   "cell_type": "markdown",
   "metadata": {},
   "source": [
    "A very simple way to improve the attention mechanism is to use multiple attention heads.\n",
    "That is we apply the attention mechanism multiple times and then concatenate the results.\n",
    "\n",
    "The intuition behind this is that different attention heads can learn different attention patterns."
   ]
  },
  {
   "cell_type": "code",
   "execution_count": 406,
   "metadata": {},
   "outputs": [],
   "source": [
    "class MultiHeadAttention(nn.Module):\n",
    "    def __init__(self, num_heads, n_embed, block_size, head_size):\n",
    "        super().__init__()\n",
    "        self.heads = nn.ModuleList([Head(n_embed, block_size, head_size) for _ in range(num_heads)])\n",
    "\n",
    "    def forward(self, x):\n",
    "        # x is a tensor of shape (B, T, C)\n",
    "        # we want to compute the attention for each head\n",
    "        # and then concatenate the results\n",
    "        # we will have a tensor of shape (B, T, num_heads * head_size)\n",
    "        # in practice, we might not concatenate but add another dimension\n",
    "        # to the tensors\n",
    "        return torch.cat([head(x) for head in self.heads], dim=-1)"
   ]
  },
  {
   "cell_type": "markdown",
   "metadata": {},
   "source": [
    "Once we let the tokens talk to each other we currently only used one linear layer to map to the outputs. \n",
    "We can expect better performance if we use multiple layers.\n",
    "\n",
    "One typically uses wide linear layers that can more readily be parallelized than deep linear layers."
   ]
  },
  {
   "cell_type": "code",
   "execution_count": 407,
   "metadata": {},
   "outputs": [],
   "source": [
    "class FeedForwardLayer(nn.Module):\n",
    "    def __init__(self, n_embed, hidden):\n",
    "        super().__init__()\n",
    "        self.net = nn.Sequential(\n",
    "            nn.Linear(n_embed, hidden),\n",
    "            nn.ReLU(),\n",
    "            nn.Linear(hidden, n_embed)\n",
    "        )\n",
    "        \n",
    "    def forward(self, x):\n",
    "        return self.net(x)"
   ]
  },
  {
   "cell_type": "markdown",
   "metadata": {},
   "source": [
    "If we put it together, it looks like this:"
   ]
  },
  {
   "cell_type": "code",
   "execution_count": 408,
   "metadata": {},
   "outputs": [],
   "source": [
    "class SelfAttentionModel(nn.Module):\n",
    "    def __init__(self, vocab_size, embedding_dim, sequence_length=100, head_size=12, num_heads=4):\n",
    "        super().__init__()\n",
    "        # read of the logits of the next token from table\n",
    "        self.token_embedding = nn.Embedding(vocab_size, embedding_dim)\n",
    "        self.positional_embedding = nn.Embedding(sequence_length, embedding_dim)\n",
    "        self.lm_head = nn.Linear(head_size, vocab_size)\n",
    "        self.sequence_length = sequence_length\n",
    "        self.attention = MultiHeadAttention(num_heads, embedding_dim, sequence_length, head_size)\n",
    "        self.feed_forward = FeedForwardLayer(embedding_dim, 4*embedding_dim)\n",
    "\n",
    "    def forward(self, x):\n",
    "        B, T = x.shape\n",
    "        x = self.token_embedding(x)\n",
    "        x += self.positional_embedding(torch.arange(T, device=device))\n",
    "        x = self.attention(x)\n",
    "        x = self.lm_head(x)\n",
    "        return x\n",
    "    \n",
    "    def loss(self, x, y):\n",
    "        # x is a tensor of shape (B, T)\n",
    "        logits = self.forward(x) # (B, T, C)\n",
    "        B, T, C = logits.shape\n",
    "        # Note that that the implementation below is because of how we - for educational purposes - have defined the dataset\n",
    "        # A better way is to have inputs and outputs of the same length (and to not manually code the sliding window   \n",
    "        logits = logits[:, -1, :]\n",
    "        logits = logits.view(B, C)\n",
    "        y = y.view(B)\n",
    "        loss = F.cross_entropy(logits, y)\n",
    "        return loss\n",
    "    \n",
    "    def generate(self, x, max_new_tokens=100):\n",
    "        # x is a tensor of shape (B, T)\n",
    "        # we generate max_new_tokens new tokens\n",
    "        new_tokens = []\n",
    "        for _t in range(max_new_tokens):\n",
    "            x_ = x[:, -self.sequence_length:]\n",
    "            logits = self.forward(x_) # (B, T, C)\n",
    "            logits = logits[:, -1, :] # we only care about the last token in Bigram, hence we bow have shape (B, C)\n",
    "            probs = F.softmax(logits, dim=-1) # we generate probabilities for the next token\n",
    "\n",
    "            # torch.multinomial(probs, num_samples=1) returns a tensor of shape (B, 1) \n",
    "            # where each element is the index of the sampled token\n",
    "            next_token = torch.multinomial(probs, num_samples=1)\n",
    "            new_tokens.append(next_token)\n",
    "            x = torch.cat([x, next_token], dim=1)\n",
    "        return x\n",
    "        \n",
    "    "
   ]
  },
  {
   "cell_type": "markdown",
   "metadata": {},
   "source": [
    "## Abstracting transformers into blocks"
   ]
  },
  {
   "cell_type": "markdown",
   "metadata": {},
   "source": [
    "It turns out that we can improve the performance by performing the self-attention and feedforward multiple times. \n",
    "For this, it is useful to extract the reusable parts into a block.\n",
    "\n",
    "However, just making the model deeper can lead to problems with training. \n",
    "To avoid this, we will leverage two tricks: \n",
    "- we will use residual connections: they allow us to \"skip\" over layers. During optimization, there will be a \"shortcut\" to between the input and the output of the block.\n",
    "- we will use layer normalization: it allows us to normalize the activations of a layer\n",
    "- we will add dropout: it allows us to randomly drop activations during training. This can be seen as a form of regularization.\n",
    "\n",
    "We will apply layer norm twice: \n",
    "- once directly on the input\n",
    "- then before we pass the multihead attention output to the feedforward layer"
   ]
  },
  {
   "cell_type": "markdown",
   "metadata": {},
   "source": [
    "Note that [there is some debate](https://magazine.sebastianraschka.com/p/why-the-original-transformer-figure) on where layer norm is optimally placed.\n",
    "\n",
    "<blockquote class=\"twitter-tweet\"><p lang=\"en\" dir=\"ltr\">Fun fact: did you know that the original Attention Is All Your Need transformer figure is wrong? <br><br>It places the layer normalization between the residual blocks, which doesn&#39;t match the code: <a href=\"https://t.co/z1oMLFpmiZ\">https://t.co/z1oMLFpmiZ</a><br><br>PS: This is known as Post-LN Transformer<br><br>1/3 <a href=\"https://t.co/OOvp4FA8Nz\">pic.twitter.com/OOvp4FA8Nz</a></p>&mdash; Sebastian Raschka (@rasbt) <a href=\"https://twitter.com/rasbt/status/1655575611979489282?ref_src=twsrc%5Etfw\">May 8, 2023</a></blockquote> <script async src=\"https://platform.twitter.com/widgets.js\" charset=\"utf-8\"></script>"
   ]
  },
  {
   "cell_type": "code",
   "execution_count": 409,
   "metadata": {},
   "outputs": [],
   "source": [
    "class Block(nn.Module):\n",
    "    \"\"\" Transformer block: communication followed by computation \"\"\"\n",
    "\n",
    "    def __init__(self, n_embd, block_size, n_head):\n",
    "        # n_embd: embedding dimension, n_head: the number of heads we'd like\n",
    "        super().__init__()\n",
    "        head_size = n_embd // n_head\n",
    "        self.sa = MultiHeadAttention(num_heads=n_head, n_embed=n_embd, block_size=block_size, head_size=head_size)\n",
    "        self.ffwd = FeedForwardLayer(n_embd, n_embd*4)\n",
    "        self.ln1 = nn.LayerNorm(n_embd)\n",
    "        self.ln2 = nn.LayerNorm(n_embd)\n",
    "\n",
    "    def forward(self, x):\n",
    "        x = x + self.sa(self.ln1(x)) # residual connection\n",
    "        x = x + self.ffwd(self.ln2(x))\n",
    "        return x"
   ]
  },
  {
   "cell_type": "markdown",
   "metadata": {},
   "source": [
    "An important thing to realize is that a bulk of the parameters is in the `FeedForwardLayer`."
   ]
  },
  {
   "cell_type": "code",
   "execution_count": 410,
   "metadata": {},
   "outputs": [
    {
     "data": {
      "text/plain": [
       "{'sa.heads.0.key.weight': 4096,\n",
       " 'sa.heads.0.query.weight': 4096,\n",
       " 'sa.heads.0.value.weight': 4096,\n",
       " 'sa.heads.1.key.weight': 4096,\n",
       " 'sa.heads.1.query.weight': 4096,\n",
       " 'sa.heads.1.value.weight': 4096,\n",
       " 'sa.heads.2.key.weight': 4096,\n",
       " 'sa.heads.2.query.weight': 4096,\n",
       " 'sa.heads.2.value.weight': 4096,\n",
       " 'sa.heads.3.key.weight': 4096,\n",
       " 'sa.heads.3.query.weight': 4096,\n",
       " 'sa.heads.3.value.weight': 4096,\n",
       " 'ffwd.net.0.weight': 65536,\n",
       " 'ffwd.net.0.bias': 512,\n",
       " 'ffwd.net.2.weight': 65536,\n",
       " 'ffwd.net.2.bias': 128,\n",
       " 'ln1.weight': 128,\n",
       " 'ln1.bias': 128,\n",
       " 'ln2.weight': 128,\n",
       " 'ln2.bias': 128}"
      ]
     },
     "execution_count": 410,
     "metadata": {},
     "output_type": "execute_result"
    }
   ],
   "source": [
    "block = Block(128, 100, 4)\n",
    "get_num_parameters_per_layer(block)"
   ]
  },
  {
   "cell_type": "markdown",
   "metadata": {},
   "source": [
    "<blockquote class=\"twitter-tweet\"><p lang=\"en\" dir=\"ltr\">I fixed the Transformer diagram :D <a href=\"https://t.co/qWnOUjZKut\">pic.twitter.com/qWnOUjZKut</a></p>&mdash; Andrej Karpathy (@karpathy) <a href=\"https://twitter.com/karpathy/status/1658161721251602432?ref_src=twsrc%5Etfw\">May 15, 2023</a></blockquote> <script async src=\"https://platform.twitter.com/widgets.js\" charset=\"utf-8\"></script>\n",
    "\n",
    "![](https://pbs.twimg.com/media/FwL5ROUagAIrsJT?format=jpg&name=medium)"
   ]
  },
  {
   "cell_type": "markdown",
   "metadata": {},
   "source": [
    "With all these \"tricks\" and enhancements of expressivity, we can now build a full GPT."
   ]
  },
  {
   "cell_type": "code",
   "execution_count": 411,
   "metadata": {},
   "outputs": [],
   "source": [
    "class GPT(nn.Module):\n",
    "    def __init__(self, vocab_size, n_embd, block_size, n_head, n_blocks):\n",
    "        super().__init__()\n",
    "        self.tok_emb = nn.Embedding(vocab_size, n_embd)\n",
    "        self.pos_emb = nn.Embedding(block_size, n_embd)\n",
    "        self.layers = nn.Sequential(*[Block(n_embd, block_size, n_head) for _ in range(n_blocks)])\n",
    "        self.head = nn.Linear(n_embd, vocab_size, bias=False)\n",
    "        self.block_size = block_size\n",
    "\n",
    "    def forward(self, x):\n",
    "        B, T = x.shape\n",
    "        \n",
    "        x = self.tok_emb(x) + self.pos_emb(torch.arange(T, device=x.device))  # b,tc, batch, time - seqeuence length, embedding dimension\n",
    "        x = self.layers(x)\n",
    "        x = self.head(x)\n",
    "        return x\n",
    "\n",
    "    def loss(self, x, y):\n",
    "        # x is a tensor of shape (B, T)\n",
    "        logits = self.forward(x) # (B, T, C)\n",
    "        B, T, C = logits.shape\n",
    "        # Note that that the implementation below is because of how we - for educational purposes - have defined the dataset\n",
    "        # A better way is to have inputs and outputs of the same length (and to not manually code the sliding window\n",
    "        # but to instead use a causal mask)\n",
    "        logits = logits[:, -1, :]\n",
    "        logits = logits.view(B, C)\n",
    "        y = y.view(B)\n",
    "        loss = F.cross_entropy(logits, y)\n",
    "        return loss\n",
    "    \n",
    "\n",
    "    def generate(self, x, max_new_tokens=100):\n",
    "        # x is a tensor of shape (B, T)\n",
    "        # we generate max_new_tokens new tokens\n",
    "        new_tokens = []\n",
    "        for _t in range(max_new_tokens):\n",
    "            x_ = x[:, -self.block_size:]\n",
    "            logits = self.forward(x_)\n",
    "            logits = logits[:, -1, :]\n",
    "            probs = F.softmax(logits, dim=-1)\n",
    "            next_token = torch.multinomial(probs, num_samples=1)\n",
    "            new_tokens.append(next_token)\n",
    "            x = torch.cat([x, next_token], dim=1)\n",
    "        return x"
   ]
  },
  {
   "cell_type": "code",
   "execution_count": 412,
   "metadata": {},
   "outputs": [],
   "source": [
    "gpt = GPT(len(tokenizer.tokens), n_embd=64, block_size=40, n_head=4, n_blocks=4)"
   ]
  },
  {
   "cell_type": "code",
   "execution_count": 413,
   "metadata": {},
   "outputs": [
    {
     "data": {
      "text/plain": [
       "191360"
      ]
     },
     "execution_count": 413,
     "metadata": {},
     "output_type": "execute_result"
    }
   ],
   "source": [
    "get_num_parameters(gpt)"
   ]
  },
  {
   "cell_type": "markdown",
   "metadata": {},
   "source": [
    "That is not nothing (but still a very small model by today's standards).\n",
    "To increase performance, we can use a larger model, more data, and more training time. For this, we need to use a GPU."
   ]
  },
  {
   "cell_type": "code",
   "execution_count": 414,
   "metadata": {},
   "outputs": [
    {
     "name": "stdout",
     "output_type": "stream",
     "text": [
      "Epoch 0, iter 0, train loss 4.452, val perplexity 44.73851\n",
      "Epoch 0, iter 100, train loss 1.376, val perplexity 3.68381\n",
      "Epoch 0, iter 200, train loss 1.127, val perplexity 3.00821\n",
      "Epoch 0, iter 300, train loss 0.981, val perplexity 2.76642\n",
      "Epoch 0, iter 400, train loss 0.933, val perplexity 2.63615\n",
      "Epoch 0, iter 500, train loss 0.931, val perplexity 2.55779\n",
      "Epoch 0, iter 600, train loss 0.935, val perplexity 2.51345\n",
      "Epoch 0, iter 700, train loss 0.852, val perplexity 2.44716\n",
      "Epoch 0, iter 800, train loss 0.879, val perplexity 2.39918\n",
      "Epoch 0, iter 900, train loss 0.904, val perplexity 2.37360\n",
      "Epoch 0, iter 1000, train loss 0.878, val perplexity 2.34873\n",
      "Epoch 0, iter 1100, train loss 0.828, val perplexity 2.32402\n",
      "Epoch 0, iter 1200, train loss 0.835, val perplexity 2.31761\n",
      "Epoch 0, iter 1300, train loss 0.817, val perplexity 2.29036\n",
      "Epoch 0, iter 1400, train loss 0.808, val perplexity 2.27935\n",
      "Epoch 0, iter 1500, train loss 0.795, val perplexity 2.26669\n",
      "Epoch 0, iter 1600, train loss 0.776, val perplexity 2.24548\n",
      "Epoch 0, iter 1700, train loss 0.785, val perplexity 2.23922\n",
      "Epoch 0, iter 1800, train loss 0.814, val perplexity 2.22313\n",
      "Epoch 0, iter 1900, train loss 0.773, val perplexity 2.22298\n",
      "Epoch 0, iter 2000, train loss 0.780, val perplexity 2.20131\n",
      "Epoch 0, iter 2100, train loss 0.810, val perplexity 2.19425\n",
      "Epoch 0, iter 2200, train loss 0.804, val perplexity 2.18350\n",
      "Epoch 0, iter 2300, train loss 0.745, val perplexity 2.17148\n",
      "Epoch 0, iter 2400, train loss 0.745, val perplexity 2.16271\n",
      "Epoch 0, iter 2500, train loss 0.769, val perplexity 2.17975\n",
      "Epoch 0, iter 2600, train loss 0.789, val perplexity 2.15805\n",
      "Epoch 0, iter 2700, train loss 0.726, val perplexity 2.15641\n",
      "Epoch 0, iter 2800, train loss 0.755, val perplexity 2.14469\n",
      "Epoch 0, iter 2900, train loss 0.738, val perplexity 2.14893\n",
      "Epoch 0, iter 3000, train loss 0.742, val perplexity 2.14645\n",
      "Epoch 1, iter 0, train loss 0.732, val perplexity 2.15031\n",
      "Epoch 1, iter 100, train loss 0.765, val perplexity 2.13708\n",
      "Epoch 1, iter 200, train loss 0.788, val perplexity 2.13605\n",
      "Epoch 1, iter 300, train loss 0.717, val perplexity 2.12883\n",
      "Epoch 1, iter 400, train loss 0.737, val perplexity 2.12692\n",
      "Epoch 1, iter 500, train loss 0.722, val perplexity 2.11019\n",
      "Epoch 1, iter 600, train loss 0.748, val perplexity 2.11692\n",
      "Epoch 1, iter 700, train loss 0.759, val perplexity 2.14582\n",
      "Epoch 1, iter 800, train loss 0.759, val perplexity 2.11219\n",
      "Epoch 1, iter 900, train loss 0.755, val perplexity 2.10373\n",
      "Epoch 1, iter 1000, train loss 0.776, val perplexity 2.09729\n",
      "Epoch 1, iter 1100, train loss 0.765, val perplexity 2.09119\n",
      "Epoch 1, iter 1200, train loss 0.734, val perplexity 2.09802\n",
      "Epoch 1, iter 1300, train loss 0.753, val perplexity 2.08814\n",
      "Epoch 1, iter 1400, train loss 0.754, val perplexity 2.09319\n",
      "Epoch 1, iter 1500, train loss 0.737, val perplexity 2.07947\n",
      "Epoch 1, iter 1600, train loss 0.738, val perplexity 2.08260\n",
      "Epoch 1, iter 1700, train loss 0.755, val perplexity 2.07799\n",
      "Epoch 1, iter 1800, train loss 0.744, val perplexity 2.08093\n",
      "Epoch 1, iter 1900, train loss 0.747, val perplexity 2.07000\n",
      "Epoch 1, iter 2000, train loss 0.687, val perplexity 2.07157\n",
      "Epoch 1, iter 2100, train loss 0.707, val perplexity 2.07065\n",
      "Epoch 1, iter 2200, train loss 0.717, val perplexity 2.05910\n",
      "Epoch 1, iter 2300, train loss 0.738, val perplexity 2.05107\n",
      "Epoch 1, iter 2400, train loss 0.711, val perplexity 2.05451\n",
      "Epoch 1, iter 2500, train loss 0.675, val perplexity 2.04613\n",
      "Epoch 1, iter 2600, train loss 0.734, val perplexity 2.05447\n",
      "Epoch 1, iter 2700, train loss 0.734, val perplexity 2.05046\n",
      "Epoch 1, iter 2800, train loss 0.730, val perplexity 2.04766\n",
      "Epoch 1, iter 2900, train loss 0.742, val perplexity 2.04536\n",
      "Epoch 1, iter 3000, train loss 0.701, val perplexity 2.03406\n",
      "Epoch 2, iter 0, train loss 0.732, val perplexity 2.03579\n",
      "Epoch 2, iter 100, train loss 0.695, val perplexity 2.03675\n",
      "Epoch 2, iter 200, train loss 0.707, val perplexity 2.03463\n",
      "Epoch 2, iter 300, train loss 0.709, val perplexity 2.03361\n",
      "Epoch 2, iter 400, train loss 0.733, val perplexity 2.03377\n",
      "Epoch 2, iter 500, train loss 0.704, val perplexity 2.02371\n",
      "Epoch 2, iter 600, train loss 0.722, val perplexity 2.02579\n",
      "Epoch 2, iter 700, train loss 0.715, val perplexity 2.02425\n",
      "Epoch 2, iter 800, train loss 0.657, val perplexity 2.02351\n",
      "Epoch 2, iter 900, train loss 0.713, val perplexity 2.02179\n",
      "Epoch 2, iter 1000, train loss 0.672, val perplexity 2.02233\n",
      "Epoch 2, iter 1100, train loss 0.687, val perplexity 2.01882\n",
      "Epoch 2, iter 1200, train loss 0.687, val perplexity 2.02302\n",
      "Epoch 2, iter 1300, train loss 0.714, val perplexity 2.02380\n",
      "Epoch 2, iter 1400, train loss 0.694, val perplexity 2.01386\n",
      "Epoch 2, iter 1500, train loss 0.665, val perplexity 2.02308\n",
      "Epoch 2, iter 1600, train loss 0.674, val perplexity 2.01054\n",
      "Epoch 2, iter 1700, train loss 0.678, val perplexity 2.01637\n",
      "Epoch 2, iter 1800, train loss 0.681, val perplexity 2.00936\n",
      "Epoch 2, iter 1900, train loss 0.695, val perplexity 2.01404\n",
      "Epoch 2, iter 2000, train loss 0.717, val perplexity 2.00616\n",
      "Epoch 2, iter 2100, train loss 0.706, val perplexity 2.00699\n",
      "Epoch 2, iter 2200, train loss 0.731, val perplexity 2.00446\n",
      "Epoch 2, iter 2300, train loss 0.700, val perplexity 1.99986\n",
      "Epoch 2, iter 2400, train loss 0.723, val perplexity 2.00541\n",
      "Epoch 2, iter 2500, train loss 0.702, val perplexity 2.00087\n",
      "Epoch 2, iter 2600, train loss 0.688, val perplexity 1.99137\n",
      "Epoch 2, iter 2700, train loss 0.702, val perplexity 1.99125\n",
      "Epoch 2, iter 2800, train loss 0.672, val perplexity 2.00703\n",
      "Epoch 2, iter 2900, train loss 0.720, val perplexity 1.99457\n",
      "Epoch 2, iter 3000, train loss 0.649, val perplexity 1.99512\n",
      "Epoch 3, iter 0, train loss 0.669, val perplexity 2.00459\n",
      "Epoch 3, iter 100, train loss 0.691, val perplexity 1.98455\n",
      "Epoch 3, iter 200, train loss 0.655, val perplexity 1.98914\n",
      "Epoch 3, iter 300, train loss 0.680, val perplexity 1.98433\n",
      "Epoch 3, iter 400, train loss 0.678, val perplexity 1.98273\n",
      "Epoch 3, iter 500, train loss 0.716, val perplexity 1.98985\n",
      "Epoch 3, iter 600, train loss 0.701, val perplexity 1.99006\n",
      "Epoch 3, iter 700, train loss 0.679, val perplexity 1.98366\n",
      "Epoch 3, iter 800, train loss 0.692, val perplexity 1.98338\n",
      "Epoch 3, iter 900, train loss 0.693, val perplexity 1.98175\n",
      "Epoch 3, iter 1000, train loss 0.675, val perplexity 1.97931\n",
      "Epoch 3, iter 1100, train loss 0.704, val perplexity 1.98130\n",
      "Epoch 3, iter 1200, train loss 0.668, val perplexity 1.97833\n",
      "Epoch 3, iter 1300, train loss 0.667, val perplexity 1.97971\n",
      "Epoch 3, iter 1400, train loss 0.651, val perplexity 1.97418\n",
      "Epoch 3, iter 1500, train loss 0.720, val perplexity 1.97505\n",
      "Epoch 3, iter 1600, train loss 0.719, val perplexity 1.97627\n",
      "Epoch 3, iter 1700, train loss 0.660, val perplexity 1.97169\n",
      "Epoch 3, iter 1800, train loss 0.699, val perplexity 1.96890\n",
      "Epoch 3, iter 1900, train loss 0.668, val perplexity 1.96781\n",
      "Epoch 3, iter 2000, train loss 0.644, val perplexity 1.96777\n",
      "Epoch 3, iter 2100, train loss 0.717, val perplexity 1.97202\n",
      "Epoch 3, iter 2200, train loss 0.715, val perplexity 1.96867\n",
      "Epoch 3, iter 2300, train loss 0.692, val perplexity 1.96386\n",
      "Epoch 3, iter 2400, train loss 0.680, val perplexity 1.96536\n",
      "Epoch 3, iter 2500, train loss 0.674, val perplexity 1.96576\n",
      "Epoch 3, iter 2600, train loss 0.682, val perplexity 1.97131\n",
      "Epoch 3, iter 2700, train loss 0.674, val perplexity 1.96801\n",
      "Epoch 3, iter 2800, train loss 0.654, val perplexity 1.96514\n",
      "Epoch 3, iter 2900, train loss 0.670, val perplexity 1.95693\n",
      "Epoch 3, iter 3000, train loss 0.684, val perplexity 1.95757\n",
      "Epoch 4, iter 0, train loss 0.680, val perplexity 1.96651\n",
      "Epoch 4, iter 100, train loss 0.639, val perplexity 1.96087\n",
      "Epoch 4, iter 200, train loss 0.670, val perplexity 1.95494\n",
      "Epoch 4, iter 300, train loss 0.691, val perplexity 1.96136\n",
      "Epoch 4, iter 400, train loss 0.647, val perplexity 1.95324\n",
      "Epoch 4, iter 500, train loss 0.680, val perplexity 1.95518\n",
      "Epoch 4, iter 600, train loss 0.680, val perplexity 1.95562\n",
      "Epoch 4, iter 700, train loss 0.636, val perplexity 1.95423\n",
      "Epoch 4, iter 800, train loss 0.641, val perplexity 1.95569\n",
      "Epoch 4, iter 900, train loss 0.611, val perplexity 1.95869\n",
      "Epoch 4, iter 1000, train loss 0.680, val perplexity 1.94975\n",
      "Epoch 4, iter 1100, train loss 0.646, val perplexity 1.95034\n",
      "Epoch 4, iter 1200, train loss 0.651, val perplexity 1.94704\n",
      "Epoch 4, iter 1300, train loss 0.650, val perplexity 1.95232\n",
      "Epoch 4, iter 1400, train loss 0.636, val perplexity 1.95301\n",
      "Epoch 4, iter 1500, train loss 0.661, val perplexity 1.95471\n",
      "Epoch 4, iter 1600, train loss 0.657, val perplexity 1.95031\n",
      "Epoch 4, iter 1700, train loss 0.660, val perplexity 1.94747\n",
      "Epoch 4, iter 1800, train loss 0.659, val perplexity 1.95406\n",
      "Epoch 4, iter 1900, train loss 0.654, val perplexity 1.94890\n",
      "Epoch 4, iter 2000, train loss 0.684, val perplexity 1.95166\n",
      "Epoch 4, iter 2100, train loss 0.630, val perplexity 1.94946\n",
      "Epoch 4, iter 2200, train loss 0.675, val perplexity 1.95190\n",
      "Epoch 4, iter 2300, train loss 0.673, val perplexity 1.94920\n",
      "Epoch 4, iter 2400, train loss 0.653, val perplexity 1.94797\n",
      "Epoch 4, iter 2500, train loss 0.636, val perplexity 1.94594\n",
      "Epoch 4, iter 2600, train loss 0.674, val perplexity 1.94101\n",
      "Epoch 4, iter 2700, train loss 0.666, val perplexity 1.95357\n",
      "Epoch 4, iter 2800, train loss 0.688, val perplexity 1.94628\n",
      "Epoch 4, iter 2900, train loss 0.670, val perplexity 1.94341\n",
      "Epoch 4, iter 3000, train loss 0.672, val perplexity 1.94509\n",
      "Epoch 5, iter 0, train loss 0.645, val perplexity 1.94178\n",
      "Epoch 5, iter 100, train loss 0.621, val perplexity 1.93829\n",
      "Epoch 5, iter 200, train loss 0.667, val perplexity 1.94284\n",
      "Epoch 5, iter 300, train loss 0.642, val perplexity 1.94148\n",
      "Epoch 5, iter 400, train loss 0.633, val perplexity 1.94527\n",
      "Epoch 5, iter 500, train loss 0.651, val perplexity 1.94243\n",
      "Epoch 5, iter 600, train loss 0.715, val perplexity 1.93943\n",
      "Epoch 5, iter 700, train loss 0.632, val perplexity 1.93961\n",
      "Epoch 5, iter 800, train loss 0.673, val perplexity 1.93994\n",
      "Epoch 5, iter 900, train loss 0.677, val perplexity 1.93811\n",
      "Epoch 5, iter 1000, train loss 0.655, val perplexity 1.94041\n",
      "Epoch 5, iter 1100, train loss 0.673, val perplexity 1.93601\n",
      "Epoch 5, iter 1200, train loss 0.631, val perplexity 1.93800\n",
      "Epoch 5, iter 1300, train loss 0.662, val perplexity 1.93886\n",
      "Epoch 5, iter 1400, train loss 0.647, val perplexity 1.93711\n",
      "Epoch 5, iter 1500, train loss 0.678, val perplexity 1.94009\n",
      "Epoch 5, iter 1600, train loss 0.643, val perplexity 1.93476\n",
      "Epoch 5, iter 1700, train loss 0.622, val perplexity 1.94068\n",
      "Epoch 5, iter 1800, train loss 0.670, val perplexity 1.93373\n",
      "Epoch 5, iter 1900, train loss 0.695, val perplexity 1.93784\n",
      "Epoch 5, iter 2000, train loss 0.641, val perplexity 1.93494\n",
      "Epoch 5, iter 2100, train loss 0.633, val perplexity 1.93339\n",
      "Epoch 5, iter 2200, train loss 0.680, val perplexity 1.92561\n",
      "Epoch 5, iter 2300, train loss 0.680, val perplexity 1.93195\n",
      "Epoch 5, iter 2400, train loss 0.643, val perplexity 1.93222\n",
      "Epoch 5, iter 2500, train loss 0.652, val perplexity 1.92935\n",
      "Epoch 5, iter 2600, train loss 0.705, val perplexity 1.93156\n",
      "Epoch 5, iter 2700, train loss 0.635, val perplexity 1.92765\n",
      "Epoch 5, iter 2800, train loss 0.708, val perplexity 1.93618\n",
      "Epoch 5, iter 2900, train loss 0.671, val perplexity 1.92979\n",
      "Epoch 5, iter 3000, train loss 0.665, val perplexity 1.93058\n",
      "Epoch 6, iter 0, train loss 0.650, val perplexity 1.93342\n",
      "Epoch 6, iter 100, train loss 0.642, val perplexity 1.92895\n",
      "Epoch 6, iter 200, train loss 0.658, val perplexity 1.92651\n",
      "Epoch 6, iter 300, train loss 0.642, val perplexity 1.92927\n",
      "Epoch 6, iter 400, train loss 0.611, val perplexity 1.93185\n",
      "Epoch 6, iter 500, train loss 0.623, val perplexity 1.92889\n",
      "Epoch 6, iter 600, train loss 0.634, val perplexity 1.92949\n",
      "Epoch 6, iter 700, train loss 0.660, val perplexity 1.92113\n",
      "Epoch 6, iter 800, train loss 0.683, val perplexity 1.92645\n",
      "Epoch 6, iter 900, train loss 0.647, val perplexity 1.92464\n",
      "Epoch 6, iter 1000, train loss 0.653, val perplexity 1.92540\n",
      "Epoch 6, iter 1100, train loss 0.645, val perplexity 1.92497\n",
      "Epoch 6, iter 1200, train loss 0.635, val perplexity 1.92110\n",
      "Epoch 6, iter 1300, train loss 0.653, val perplexity 1.92494\n",
      "Epoch 6, iter 1400, train loss 0.646, val perplexity 1.92566\n",
      "Epoch 6, iter 1500, train loss 0.641, val perplexity 1.93135\n",
      "Epoch 6, iter 1600, train loss 0.641, val perplexity 1.92010\n",
      "Epoch 6, iter 1700, train loss 0.632, val perplexity 1.92073\n",
      "Epoch 6, iter 1800, train loss 0.674, val perplexity 1.93068\n",
      "Epoch 6, iter 1900, train loss 0.660, val perplexity 1.92327\n",
      "Epoch 6, iter 2000, train loss 0.665, val perplexity 1.91660\n",
      "Epoch 6, iter 2100, train loss 0.652, val perplexity 1.92014\n",
      "Epoch 6, iter 2200, train loss 0.675, val perplexity 1.92575\n",
      "Epoch 6, iter 2300, train loss 0.636, val perplexity 1.91780\n",
      "Epoch 6, iter 2400, train loss 0.643, val perplexity 1.91831\n",
      "Epoch 6, iter 2500, train loss 0.667, val perplexity 1.92267\n",
      "Epoch 6, iter 2600, train loss 0.691, val perplexity 1.92060\n",
      "Epoch 6, iter 2700, train loss 0.651, val perplexity 1.91821\n",
      "Epoch 6, iter 2800, train loss 0.670, val perplexity 1.91989\n",
      "Epoch 6, iter 2900, train loss 0.658, val perplexity 1.91619\n",
      "Epoch 6, iter 3000, train loss 0.636, val perplexity 1.91682\n",
      "Epoch 7, iter 0, train loss 0.653, val perplexity 1.91773\n",
      "Epoch 7, iter 100, train loss 0.641, val perplexity 1.91795\n",
      "Epoch 7, iter 200, train loss 0.633, val perplexity 1.92178\n",
      "Epoch 7, iter 300, train loss 0.645, val perplexity 1.91800\n",
      "Epoch 7, iter 400, train loss 0.630, val perplexity 1.91701\n",
      "Epoch 7, iter 500, train loss 0.634, val perplexity 1.91737\n",
      "Epoch 7, iter 600, train loss 0.665, val perplexity 1.91566\n",
      "Epoch 7, iter 700, train loss 0.653, val perplexity 1.91685\n",
      "Epoch 7, iter 800, train loss 0.610, val perplexity 1.91755\n",
      "Epoch 7, iter 900, train loss 0.631, val perplexity 1.91505\n",
      "Epoch 7, iter 1000, train loss 0.617, val perplexity 1.91620\n",
      "Epoch 7, iter 1100, train loss 0.646, val perplexity 1.91237\n",
      "Epoch 7, iter 1200, train loss 0.692, val perplexity 1.91239\n",
      "Epoch 7, iter 1300, train loss 0.647, val perplexity 1.91355\n",
      "Epoch 7, iter 1400, train loss 0.599, val perplexity 1.91479\n",
      "Epoch 7, iter 1500, train loss 0.615, val perplexity 1.91264\n",
      "Epoch 7, iter 1600, train loss 0.646, val perplexity 1.90910\n",
      "Epoch 7, iter 1700, train loss 0.608, val perplexity 1.91005\n",
      "Epoch 7, iter 1800, train loss 0.621, val perplexity 1.91320\n",
      "Epoch 7, iter 1900, train loss 0.649, val perplexity 1.91414\n",
      "Epoch 7, iter 2000, train loss 0.598, val perplexity 1.91187\n",
      "Epoch 7, iter 2100, train loss 0.663, val perplexity 1.91032\n",
      "Epoch 7, iter 2200, train loss 0.653, val perplexity 1.91016\n",
      "Epoch 7, iter 2300, train loss 0.636, val perplexity 1.91301\n",
      "Epoch 7, iter 2400, train loss 0.647, val perplexity 1.91055\n",
      "Epoch 7, iter 2500, train loss 0.636, val perplexity 1.91004\n",
      "Epoch 7, iter 2600, train loss 0.621, val perplexity 1.91090\n",
      "Epoch 7, iter 2700, train loss 0.661, val perplexity 1.91047\n",
      "Epoch 7, iter 2800, train loss 0.610, val perplexity 1.90953\n",
      "Epoch 7, iter 2900, train loss 0.670, val perplexity 1.91044\n",
      "Epoch 7, iter 3000, train loss 0.649, val perplexity 1.90597\n",
      "Epoch 8, iter 0, train loss 0.636, val perplexity 1.90433\n",
      "Epoch 8, iter 100, train loss 0.623, val perplexity 1.90670\n",
      "Epoch 8, iter 200, train loss 0.642, val perplexity 1.90896\n",
      "Epoch 8, iter 300, train loss 0.665, val perplexity 1.90487\n",
      "Epoch 8, iter 400, train loss 0.613, val perplexity 1.90797\n",
      "Epoch 8, iter 500, train loss 0.621, val perplexity 1.90619\n",
      "Epoch 8, iter 600, train loss 0.630, val perplexity 1.91150\n",
      "Epoch 8, iter 700, train loss 0.669, val perplexity 1.90974\n",
      "Epoch 8, iter 800, train loss 0.616, val perplexity 1.90695\n",
      "Epoch 8, iter 900, train loss 0.666, val perplexity 1.90702\n",
      "Epoch 8, iter 1000, train loss 0.636, val perplexity 1.91129\n",
      "Epoch 8, iter 1100, train loss 0.658, val perplexity 1.90833\n",
      "Epoch 8, iter 1200, train loss 0.638, val perplexity 1.90275\n",
      "Epoch 8, iter 1300, train loss 0.577, val perplexity 1.90394\n",
      "Epoch 8, iter 1400, train loss 0.671, val perplexity 1.90399\n",
      "Epoch 8, iter 1500, train loss 0.662, val perplexity 1.90220\n",
      "Epoch 8, iter 1600, train loss 0.662, val perplexity 1.90444\n",
      "Epoch 8, iter 1700, train loss 0.637, val perplexity 1.90090\n",
      "Epoch 8, iter 1800, train loss 0.612, val perplexity 1.90160\n",
      "Epoch 8, iter 1900, train loss 0.663, val perplexity 1.90664\n",
      "Epoch 8, iter 2000, train loss 0.638, val perplexity 1.90436\n",
      "Epoch 8, iter 2100, train loss 0.665, val perplexity 1.90422\n",
      "Epoch 8, iter 2200, train loss 0.617, val perplexity 1.90150\n",
      "Epoch 8, iter 2300, train loss 0.614, val perplexity 1.90442\n",
      "Epoch 8, iter 2400, train loss 0.612, val perplexity 1.90103\n",
      "Epoch 8, iter 2500, train loss 0.643, val perplexity 1.90159\n",
      "Epoch 8, iter 2600, train loss 0.602, val perplexity 1.90268\n",
      "Epoch 8, iter 2700, train loss 0.648, val perplexity 1.89956\n",
      "Epoch 8, iter 2800, train loss 0.622, val perplexity 1.90088\n",
      "Epoch 8, iter 2900, train loss 0.654, val perplexity 1.90402\n",
      "Epoch 8, iter 3000, train loss 0.649, val perplexity 1.90302\n",
      "Epoch 9, iter 0, train loss 0.630, val perplexity 1.90364\n",
      "Epoch 9, iter 100, train loss 0.608, val perplexity 1.90211\n",
      "Epoch 9, iter 200, train loss 0.627, val perplexity 1.90158\n",
      "Epoch 9, iter 300, train loss 0.626, val perplexity 1.90254\n",
      "Epoch 9, iter 400, train loss 0.613, val perplexity 1.90116\n",
      "Epoch 9, iter 500, train loss 0.669, val perplexity 1.90234\n",
      "Epoch 9, iter 600, train loss 0.574, val perplexity 1.90086\n",
      "Epoch 9, iter 700, train loss 0.604, val perplexity 1.90457\n",
      "Epoch 9, iter 800, train loss 0.630, val perplexity 1.89663\n",
      "Epoch 9, iter 900, train loss 0.664, val perplexity 1.89946\n",
      "Epoch 9, iter 1000, train loss 0.613, val perplexity 1.89861\n",
      "Epoch 9, iter 1100, train loss 0.603, val perplexity 1.90102\n",
      "Epoch 9, iter 1200, train loss 0.644, val perplexity 1.89922\n",
      "Epoch 9, iter 1300, train loss 0.638, val perplexity 1.89704\n",
      "Epoch 9, iter 1400, train loss 0.623, val perplexity 1.89902\n",
      "Epoch 9, iter 1500, train loss 0.622, val perplexity 1.89737\n",
      "Epoch 9, iter 1600, train loss 0.649, val perplexity 1.89919\n",
      "Epoch 9, iter 1700, train loss 0.644, val perplexity 1.89897\n",
      "Epoch 9, iter 1800, train loss 0.616, val perplexity 1.89784\n",
      "Epoch 9, iter 1900, train loss 0.672, val perplexity 1.89690\n",
      "Epoch 9, iter 2000, train loss 0.681, val perplexity 1.89647\n",
      "Epoch 9, iter 2100, train loss 0.663, val perplexity 1.90050\n",
      "Epoch 9, iter 2200, train loss 0.640, val perplexity 1.89355\n",
      "Epoch 9, iter 2300, train loss 0.641, val perplexity 1.89585\n",
      "Epoch 9, iter 2400, train loss 0.649, val perplexity 1.89644\n",
      "Epoch 9, iter 2500, train loss 0.641, val perplexity 1.89561\n",
      "Epoch 9, iter 2600, train loss 0.674, val perplexity 1.89989\n",
      "Epoch 9, iter 2700, train loss 0.621, val perplexity 1.89609\n",
      "Epoch 9, iter 2800, train loss 0.673, val perplexity 1.89582\n",
      "Epoch 9, iter 2900, train loss 0.606, val perplexity 1.89622\n",
      "Epoch 9, iter 3000, train loss 0.628, val perplexity 1.89323\n"
     ]
    }
   ],
   "source": [
    "train_model(gpt, train_loader, valid_loader, epochs=10, lr=1e-3)"
   ]
  },
  {
   "cell_type": "code",
   "execution_count": null,
   "metadata": {},
   "outputs": [],
   "source": [
    "# save the trained model\n",
    "torch.save(gpt.state_dict(), 'gpt.pt')"
   ]
  },
  {
   "cell_type": "code",
   "execution_count": 420,
   "metadata": {},
   "outputs": [],
   "source": [
    "generations = []\n",
    "\n",
    "for i in range(500):\n",
    "    a = torch.tensor([[tokenizer.token_to_index('C')]])\n",
    "    a = a.to(device)\n",
    "    generation = gpt.generate(a, max_new_tokens=30).cpu().numpy()\n",
    "    generations.append(tokenizer.decode(generation[0]))"
   ]
  },
  {
   "cell_type": "code",
   "execution_count": 423,
   "metadata": {},
   "outputs": [
    {
     "data": {
      "text/plain": [
       "array(['C1', 'C1', 'C1=C[C@H]1C', 'C1(Cn1', 'C1(COC#N2C[C@@H]2)CC', 'C1(',\n",
       "       'C1', 'C1', 'C1[Si]Oc2CC', 'C1', 'C1C', 'C1', 'C1C1',\n",
       "       'C1(/C2[C@H]2[C@@H]1C[C@@H]1[C@@H]1O2C[C@H]1', 'C1', 'C1CC1',\n",
       "       'C1C', 'C1', 'C1', 'CC2C[C@@H]1C[C@H]2CC[C@H]', 'C1CC1', 'C1',\n",
       "       'C1(COc[nH]c2', 'CC', 'C1CC1', 'C1C=COC', 'CC',\n",
       "       'C1[Si]CCC1CN1c2[nH]2CC', 'C1', 'C2)c1C1', 'C1=', 'CCC1', 'CC',\n",
       "       'C1(/CCO1C1=CCO2)NC[C@@H]c1C', 'CC[C@H](CCO', 'CCC', 'C1CC1',\n",
       "       'CC2)n1C1', 'CCC1', 'C1(=C2N'], dtype='<U45')"
      ]
     },
     "execution_count": 423,
     "metadata": {},
     "output_type": "execute_result"
    }
   ],
   "source": [
    "np.random.choice(generations, 40)"
   ]
  },
  {
   "cell_type": "code",
   "execution_count": 424,
   "metadata": {},
   "outputs": [],
   "source": [
    "with open('generations.txt', 'w') as handle:\n",
    "    for generation in generations:\n",
    "        handle.write(generation + '\\n')"
   ]
  },
  {
   "cell_type": "markdown",
   "metadata": {},
   "source": [
    "Those seem the best we have seen so far!"
   ]
  },
  {
   "cell_type": "markdown",
   "metadata": {},
   "source": [
    "## Summary"
   ]
  },
  {
   "cell_type": "markdown",
   "metadata": {},
   "source": [
    "We saw how to build a GPT to generate new SMILES.\n",
    "We generalized a simple bigram model to take into account all past tokens and not just the last one.\n",
    "When we take the tokens into account, we do this by using self-attention, which allows the model to learn the dependencies between tokens.\n",
    "\n",
    "To further improve the model, we added multiple heads to the self-attention mechanism, which allows the model to learn different dependencies between tokens.\n",
    "Finally, we stacked multiple blocks of self-attention and feedforward layers to create a GPT model."
   ]
  },
  {
   "cell_type": "markdown",
   "metadata": {},
   "source": [
    "## References \n",
    "\n",
    "Much of this discussion (and also the way it is structured, e.g., based on the bigram) is based on the outstanding material created by [Andrej Karpathy](https://karpathy.ai/zero-to-hero.html). In particular, the implementation here follows [nanoGPT](https://github.com/karpathy/nanoGPT).\n",
    "\n",
    "Other useful resources are:\n",
    "\n",
    "- [Annotated transformer](https://nlp.seas.harvard.edu/annotated-transformer/)\n",
    "- [Illustrated transformer](https://jalammar.github.io/illustrated-transformer/)\n",
    "- [Attention! Attention?](https://lilianweng.github.io/posts/2018-06-24-attention/)\n",
    "- [Interactive attention visualization](https://bbycroft.net/llm)\n",
    "- [Simon Prince's book](https://udlbook.github.io/udlbook/) and [blog posts](https://www.borealisai.com/research-blogs/tutorial-14-transformers-i-introduction/) have very nice illustrations of the attention mechanism.\n"
   ]
  }
 ],
 "metadata": {
  "kernelspec": {
   "display_name": "gpttutorial",
   "language": "python",
   "name": "python3"
  },
  "language_info": {
   "codemirror_mode": {
    "name": "ipython",
    "version": 3
   },
   "file_extension": ".py",
   "mimetype": "text/x-python",
   "name": "python",
   "nbconvert_exporter": "python",
   "pygments_lexer": "ipython3",
   "version": "3.11.9"
  }
 },
 "nbformat": 4,
 "nbformat_minor": 2
}
